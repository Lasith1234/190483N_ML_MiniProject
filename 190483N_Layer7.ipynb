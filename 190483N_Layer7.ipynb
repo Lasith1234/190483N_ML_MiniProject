{
  "nbformat": 4,
  "nbformat_minor": 0,
  "metadata": {
    "colab": {
      "provenance": []
    },
    "kernelspec": {
      "name": "python3",
      "display_name": "Python 3"
    },
    "language_info": {
      "name": "python"
    }
  },
  "cells": [
    {
      "cell_type": "markdown",
      "source": [
        "\n",
        "Importing all the Libraries that are needed"
      ],
      "metadata": {
        "id": "b_M6z-X0ERIV"
      }
    },
    {
      "cell_type": "code",
      "execution_count": 2,
      "metadata": {
        "id": "pfRo2Sovex9Q"
      },
      "outputs": [],
      "source": [
        "import pandas as pd\n",
        "import numpy as np\n",
        "import matplotlib.pyplot as plt\n",
        "from pandas import Series\n",
        "\n",
        "from sklearn.utils import class_weight\n",
        "from sklearn import svm\n",
        "from sklearn import metrics\n",
        "from sklearn.metrics import f1_score\n",
        "from sklearn.metrics import confusion_matrix\n",
        "from sklearn.neighbors import KNeighborsClassifier\n",
        "from sklearn.svm import SVC\n",
        "from sklearn.feature_selection import SelectKBest, f_classif, chi2\n",
        "import numpy as np\n",
        "\n"
      ]
    },
    {
      "cell_type": "code",
      "source": [
        "#Reading all datasets available\n",
        "\n",
        "train_set = pd.read_csv('/content/drive/MyDrive/ML/Data Sets/speech-based-classification-layer-7/train.csv')\n",
        "test_set = pd.read_csv('/content/drive/MyDrive/ML/Data Sets/speech-based-classification-layer-7/test.csv')\n",
        "valid_set = pd.read_csv('/content/drive/MyDrive/ML/Data Sets/speech-based-classification-layer-7/valid.csv')\n"
      ],
      "metadata": {
        "id": "t-xOi_O6heSi"
      },
      "execution_count": 4,
      "outputs": []
    },
    {
      "cell_type": "code",
      "source": [
        "#Checking whether there are coloumns with missing values\n",
        "\n",
        "null_val_cols = train_set.columns[train_set.isnull().any()]\n",
        "\n",
        "for col in null_val_cols:\n",
        "    print(col)"
      ],
      "metadata": {
        "colab": {
          "base_uri": "https://localhost:8080/",
          "height": 0
        },
        "id": "DiJQqS8EGmVn",
        "outputId": "f8b6291d-061b-4ebc-9d82-283e655c1b30"
      },
      "execution_count": 5,
      "outputs": [
        {
          "output_type": "stream",
          "name": "stdout",
          "text": [
            "label_2\n"
          ]
        }
      ]
    },
    {
      "cell_type": "code",
      "source": [
        "#Removing rows with unavailable values in label_2 in both train and valid data sets\n",
        "\n",
        "train_set = train_set.dropna(subset=['label_2'])\n",
        "valid_set = valid_set.dropna(subset=['label_2'])\n",
        "#train_set.to_csv('/content/drive/MyDrive/ML/Data Sets/speech-based-classification-layer-12/cleaned_train_set.csv', index=False)\n",
        "train_set.head()"
      ],
      "metadata": {
        "colab": {
          "base_uri": "https://localhost:8080/",
          "height": 255
        },
        "id": "VJSqPnOOjwXJ",
        "outputId": "dd092b5b-dca6-477c-f234-29b8b7d2e261"
      },
      "execution_count": 67,
      "outputs": [
        {
          "output_type": "execute_result",
          "data": {
            "text/plain": [
              "     feature_1  feature_2  feature_3  feature_4  feature_5  feature_6  \\\n",
              "480   0.083870   0.166150  -0.034322  -0.075919  -0.171775   0.012949   \n",
              "481   0.071744  -0.016584  -0.039873  -0.081580  -0.159366  -0.066516   \n",
              "482   0.210556  -0.000793   0.081505  -0.071365  -0.167036   0.036712   \n",
              "483   0.098933  -0.022292   0.032271  -0.012868  -0.164382  -0.095997   \n",
              "484   0.004612   0.075626  -0.010036  -0.029415  -0.054140  -0.000785   \n",
              "\n",
              "     feature_7  feature_8  feature_9  feature_10  ...  feature_763  \\\n",
              "480   0.165340  -0.106969   0.027650   -0.024831  ...    -0.052727   \n",
              "481   0.061793  -0.116348   0.097517   -0.085288  ...    -0.123597   \n",
              "482   0.143173  -0.074924  -0.007206   -0.143535  ...    -0.067351   \n",
              "483   0.195600   0.010783  -0.017376   -0.034254  ...    -0.043167   \n",
              "484   0.085094  -0.050050   0.075547   -0.055219  ...    -0.004819   \n",
              "\n",
              "     feature_764  feature_765  feature_766  feature_767  feature_768  label_1  \\\n",
              "480     0.033423    -0.054580    -0.052529    -0.117777    -0.033383        5   \n",
              "481    -0.076431     0.040986     0.015559    -0.036971     0.165624        5   \n",
              "482    -0.037610     0.007519     0.046775     0.068004     0.017755        5   \n",
              "483     0.005910    -0.081875     0.082903     0.081041     0.022018        5   \n",
              "484    -0.041974     0.022569     0.063767    -0.044779     0.062611        5   \n",
              "\n",
              "     label_2  label_3  label_4  \n",
              "480     25.0        1        6  \n",
              "481     25.0        1        6  \n",
              "482     25.0        1        6  \n",
              "483     25.0        1        6  \n",
              "484     25.0        1        6  \n",
              "\n",
              "[5 rows x 772 columns]"
            ],
            "text/html": [
              "\n",
              "  <div id=\"df-35b5bdd7-fa4f-4d68-a7b0-6bac3a9b1b64\" class=\"colab-df-container\">\n",
              "    <div>\n",
              "<style scoped>\n",
              "    .dataframe tbody tr th:only-of-type {\n",
              "        vertical-align: middle;\n",
              "    }\n",
              "\n",
              "    .dataframe tbody tr th {\n",
              "        vertical-align: top;\n",
              "    }\n",
              "\n",
              "    .dataframe thead th {\n",
              "        text-align: right;\n",
              "    }\n",
              "</style>\n",
              "<table border=\"1\" class=\"dataframe\">\n",
              "  <thead>\n",
              "    <tr style=\"text-align: right;\">\n",
              "      <th></th>\n",
              "      <th>feature_1</th>\n",
              "      <th>feature_2</th>\n",
              "      <th>feature_3</th>\n",
              "      <th>feature_4</th>\n",
              "      <th>feature_5</th>\n",
              "      <th>feature_6</th>\n",
              "      <th>feature_7</th>\n",
              "      <th>feature_8</th>\n",
              "      <th>feature_9</th>\n",
              "      <th>feature_10</th>\n",
              "      <th>...</th>\n",
              "      <th>feature_763</th>\n",
              "      <th>feature_764</th>\n",
              "      <th>feature_765</th>\n",
              "      <th>feature_766</th>\n",
              "      <th>feature_767</th>\n",
              "      <th>feature_768</th>\n",
              "      <th>label_1</th>\n",
              "      <th>label_2</th>\n",
              "      <th>label_3</th>\n",
              "      <th>label_4</th>\n",
              "    </tr>\n",
              "  </thead>\n",
              "  <tbody>\n",
              "    <tr>\n",
              "      <th>480</th>\n",
              "      <td>0.083870</td>\n",
              "      <td>0.166150</td>\n",
              "      <td>-0.034322</td>\n",
              "      <td>-0.075919</td>\n",
              "      <td>-0.171775</td>\n",
              "      <td>0.012949</td>\n",
              "      <td>0.165340</td>\n",
              "      <td>-0.106969</td>\n",
              "      <td>0.027650</td>\n",
              "      <td>-0.024831</td>\n",
              "      <td>...</td>\n",
              "      <td>-0.052727</td>\n",
              "      <td>0.033423</td>\n",
              "      <td>-0.054580</td>\n",
              "      <td>-0.052529</td>\n",
              "      <td>-0.117777</td>\n",
              "      <td>-0.033383</td>\n",
              "      <td>5</td>\n",
              "      <td>25.0</td>\n",
              "      <td>1</td>\n",
              "      <td>6</td>\n",
              "    </tr>\n",
              "    <tr>\n",
              "      <th>481</th>\n",
              "      <td>0.071744</td>\n",
              "      <td>-0.016584</td>\n",
              "      <td>-0.039873</td>\n",
              "      <td>-0.081580</td>\n",
              "      <td>-0.159366</td>\n",
              "      <td>-0.066516</td>\n",
              "      <td>0.061793</td>\n",
              "      <td>-0.116348</td>\n",
              "      <td>0.097517</td>\n",
              "      <td>-0.085288</td>\n",
              "      <td>...</td>\n",
              "      <td>-0.123597</td>\n",
              "      <td>-0.076431</td>\n",
              "      <td>0.040986</td>\n",
              "      <td>0.015559</td>\n",
              "      <td>-0.036971</td>\n",
              "      <td>0.165624</td>\n",
              "      <td>5</td>\n",
              "      <td>25.0</td>\n",
              "      <td>1</td>\n",
              "      <td>6</td>\n",
              "    </tr>\n",
              "    <tr>\n",
              "      <th>482</th>\n",
              "      <td>0.210556</td>\n",
              "      <td>-0.000793</td>\n",
              "      <td>0.081505</td>\n",
              "      <td>-0.071365</td>\n",
              "      <td>-0.167036</td>\n",
              "      <td>0.036712</td>\n",
              "      <td>0.143173</td>\n",
              "      <td>-0.074924</td>\n",
              "      <td>-0.007206</td>\n",
              "      <td>-0.143535</td>\n",
              "      <td>...</td>\n",
              "      <td>-0.067351</td>\n",
              "      <td>-0.037610</td>\n",
              "      <td>0.007519</td>\n",
              "      <td>0.046775</td>\n",
              "      <td>0.068004</td>\n",
              "      <td>0.017755</td>\n",
              "      <td>5</td>\n",
              "      <td>25.0</td>\n",
              "      <td>1</td>\n",
              "      <td>6</td>\n",
              "    </tr>\n",
              "    <tr>\n",
              "      <th>483</th>\n",
              "      <td>0.098933</td>\n",
              "      <td>-0.022292</td>\n",
              "      <td>0.032271</td>\n",
              "      <td>-0.012868</td>\n",
              "      <td>-0.164382</td>\n",
              "      <td>-0.095997</td>\n",
              "      <td>0.195600</td>\n",
              "      <td>0.010783</td>\n",
              "      <td>-0.017376</td>\n",
              "      <td>-0.034254</td>\n",
              "      <td>...</td>\n",
              "      <td>-0.043167</td>\n",
              "      <td>0.005910</td>\n",
              "      <td>-0.081875</td>\n",
              "      <td>0.082903</td>\n",
              "      <td>0.081041</td>\n",
              "      <td>0.022018</td>\n",
              "      <td>5</td>\n",
              "      <td>25.0</td>\n",
              "      <td>1</td>\n",
              "      <td>6</td>\n",
              "    </tr>\n",
              "    <tr>\n",
              "      <th>484</th>\n",
              "      <td>0.004612</td>\n",
              "      <td>0.075626</td>\n",
              "      <td>-0.010036</td>\n",
              "      <td>-0.029415</td>\n",
              "      <td>-0.054140</td>\n",
              "      <td>-0.000785</td>\n",
              "      <td>0.085094</td>\n",
              "      <td>-0.050050</td>\n",
              "      <td>0.075547</td>\n",
              "      <td>-0.055219</td>\n",
              "      <td>...</td>\n",
              "      <td>-0.004819</td>\n",
              "      <td>-0.041974</td>\n",
              "      <td>0.022569</td>\n",
              "      <td>0.063767</td>\n",
              "      <td>-0.044779</td>\n",
              "      <td>0.062611</td>\n",
              "      <td>5</td>\n",
              "      <td>25.0</td>\n",
              "      <td>1</td>\n",
              "      <td>6</td>\n",
              "    </tr>\n",
              "  </tbody>\n",
              "</table>\n",
              "<p>5 rows × 772 columns</p>\n",
              "</div>\n",
              "    <div class=\"colab-df-buttons\">\n",
              "\n",
              "  <div class=\"colab-df-container\">\n",
              "    <button class=\"colab-df-convert\" onclick=\"convertToInteractive('df-35b5bdd7-fa4f-4d68-a7b0-6bac3a9b1b64')\"\n",
              "            title=\"Convert this dataframe to an interactive table.\"\n",
              "            style=\"display:none;\">\n",
              "\n",
              "  <svg xmlns=\"http://www.w3.org/2000/svg\" height=\"24px\" viewBox=\"0 -960 960 960\">\n",
              "    <path d=\"M120-120v-720h720v720H120Zm60-500h600v-160H180v160Zm220 220h160v-160H400v160Zm0 220h160v-160H400v160ZM180-400h160v-160H180v160Zm440 0h160v-160H620v160ZM180-180h160v-160H180v160Zm440 0h160v-160H620v160Z\"/>\n",
              "  </svg>\n",
              "    </button>\n",
              "\n",
              "  <style>\n",
              "    .colab-df-container {\n",
              "      display:flex;\n",
              "      gap: 12px;\n",
              "    }\n",
              "\n",
              "    .colab-df-convert {\n",
              "      background-color: #E8F0FE;\n",
              "      border: none;\n",
              "      border-radius: 50%;\n",
              "      cursor: pointer;\n",
              "      display: none;\n",
              "      fill: #1967D2;\n",
              "      height: 32px;\n",
              "      padding: 0 0 0 0;\n",
              "      width: 32px;\n",
              "    }\n",
              "\n",
              "    .colab-df-convert:hover {\n",
              "      background-color: #E2EBFA;\n",
              "      box-shadow: 0px 1px 2px rgba(60, 64, 67, 0.3), 0px 1px 3px 1px rgba(60, 64, 67, 0.15);\n",
              "      fill: #174EA6;\n",
              "    }\n",
              "\n",
              "    .colab-df-buttons div {\n",
              "      margin-bottom: 4px;\n",
              "    }\n",
              "\n",
              "    [theme=dark] .colab-df-convert {\n",
              "      background-color: #3B4455;\n",
              "      fill: #D2E3FC;\n",
              "    }\n",
              "\n",
              "    [theme=dark] .colab-df-convert:hover {\n",
              "      background-color: #434B5C;\n",
              "      box-shadow: 0px 1px 3px 1px rgba(0, 0, 0, 0.15);\n",
              "      filter: drop-shadow(0px 1px 2px rgba(0, 0, 0, 0.3));\n",
              "      fill: #FFFFFF;\n",
              "    }\n",
              "  </style>\n",
              "\n",
              "    <script>\n",
              "      const buttonEl =\n",
              "        document.querySelector('#df-35b5bdd7-fa4f-4d68-a7b0-6bac3a9b1b64 button.colab-df-convert');\n",
              "      buttonEl.style.display =\n",
              "        google.colab.kernel.accessAllowed ? 'block' : 'none';\n",
              "\n",
              "      async function convertToInteractive(key) {\n",
              "        const element = document.querySelector('#df-35b5bdd7-fa4f-4d68-a7b0-6bac3a9b1b64');\n",
              "        const dataTable =\n",
              "          await google.colab.kernel.invokeFunction('convertToInteractive',\n",
              "                                                    [key], {});\n",
              "        if (!dataTable) return;\n",
              "\n",
              "        const docLinkHtml = 'Like what you see? Visit the ' +\n",
              "          '<a target=\"_blank\" href=https://colab.research.google.com/notebooks/data_table.ipynb>data table notebook</a>'\n",
              "          + ' to learn more about interactive tables.';\n",
              "        element.innerHTML = '';\n",
              "        dataTable['output_type'] = 'display_data';\n",
              "        await google.colab.output.renderOutput(dataTable, element);\n",
              "        const docLink = document.createElement('div');\n",
              "        docLink.innerHTML = docLinkHtml;\n",
              "        element.appendChild(docLink);\n",
              "      }\n",
              "    </script>\n",
              "  </div>\n",
              "\n",
              "\n",
              "<div id=\"df-900ca729-9b41-4615-a361-4b148db62cee\">\n",
              "  <button class=\"colab-df-quickchart\" onclick=\"quickchart('df-900ca729-9b41-4615-a361-4b148db62cee')\"\n",
              "            title=\"Suggest charts.\"\n",
              "            style=\"display:none;\">\n",
              "\n",
              "<svg xmlns=\"http://www.w3.org/2000/svg\" height=\"24px\"viewBox=\"0 0 24 24\"\n",
              "     width=\"24px\">\n",
              "    <g>\n",
              "        <path d=\"M19 3H5c-1.1 0-2 .9-2 2v14c0 1.1.9 2 2 2h14c1.1 0 2-.9 2-2V5c0-1.1-.9-2-2-2zM9 17H7v-7h2v7zm4 0h-2V7h2v10zm4 0h-2v-4h2v4z\"/>\n",
              "    </g>\n",
              "</svg>\n",
              "  </button>\n",
              "\n",
              "<style>\n",
              "  .colab-df-quickchart {\n",
              "      --bg-color: #E8F0FE;\n",
              "      --fill-color: #1967D2;\n",
              "      --hover-bg-color: #E2EBFA;\n",
              "      --hover-fill-color: #174EA6;\n",
              "      --disabled-fill-color: #AAA;\n",
              "      --disabled-bg-color: #DDD;\n",
              "  }\n",
              "\n",
              "  [theme=dark] .colab-df-quickchart {\n",
              "      --bg-color: #3B4455;\n",
              "      --fill-color: #D2E3FC;\n",
              "      --hover-bg-color: #434B5C;\n",
              "      --hover-fill-color: #FFFFFF;\n",
              "      --disabled-bg-color: #3B4455;\n",
              "      --disabled-fill-color: #666;\n",
              "  }\n",
              "\n",
              "  .colab-df-quickchart {\n",
              "    background-color: var(--bg-color);\n",
              "    border: none;\n",
              "    border-radius: 50%;\n",
              "    cursor: pointer;\n",
              "    display: none;\n",
              "    fill: var(--fill-color);\n",
              "    height: 32px;\n",
              "    padding: 0;\n",
              "    width: 32px;\n",
              "  }\n",
              "\n",
              "  .colab-df-quickchart:hover {\n",
              "    background-color: var(--hover-bg-color);\n",
              "    box-shadow: 0 1px 2px rgba(60, 64, 67, 0.3), 0 1px 3px 1px rgba(60, 64, 67, 0.15);\n",
              "    fill: var(--button-hover-fill-color);\n",
              "  }\n",
              "\n",
              "  .colab-df-quickchart-complete:disabled,\n",
              "  .colab-df-quickchart-complete:disabled:hover {\n",
              "    background-color: var(--disabled-bg-color);\n",
              "    fill: var(--disabled-fill-color);\n",
              "    box-shadow: none;\n",
              "  }\n",
              "\n",
              "  .colab-df-spinner {\n",
              "    border: 2px solid var(--fill-color);\n",
              "    border-color: transparent;\n",
              "    border-bottom-color: var(--fill-color);\n",
              "    animation:\n",
              "      spin 1s steps(1) infinite;\n",
              "  }\n",
              "\n",
              "  @keyframes spin {\n",
              "    0% {\n",
              "      border-color: transparent;\n",
              "      border-bottom-color: var(--fill-color);\n",
              "      border-left-color: var(--fill-color);\n",
              "    }\n",
              "    20% {\n",
              "      border-color: transparent;\n",
              "      border-left-color: var(--fill-color);\n",
              "      border-top-color: var(--fill-color);\n",
              "    }\n",
              "    30% {\n",
              "      border-color: transparent;\n",
              "      border-left-color: var(--fill-color);\n",
              "      border-top-color: var(--fill-color);\n",
              "      border-right-color: var(--fill-color);\n",
              "    }\n",
              "    40% {\n",
              "      border-color: transparent;\n",
              "      border-right-color: var(--fill-color);\n",
              "      border-top-color: var(--fill-color);\n",
              "    }\n",
              "    60% {\n",
              "      border-color: transparent;\n",
              "      border-right-color: var(--fill-color);\n",
              "    }\n",
              "    80% {\n",
              "      border-color: transparent;\n",
              "      border-right-color: var(--fill-color);\n",
              "      border-bottom-color: var(--fill-color);\n",
              "    }\n",
              "    90% {\n",
              "      border-color: transparent;\n",
              "      border-bottom-color: var(--fill-color);\n",
              "    }\n",
              "  }\n",
              "</style>\n",
              "\n",
              "  <script>\n",
              "    async function quickchart(key) {\n",
              "      const quickchartButtonEl =\n",
              "        document.querySelector('#' + key + ' button');\n",
              "      quickchartButtonEl.disabled = true;  // To prevent multiple clicks.\n",
              "      quickchartButtonEl.classList.add('colab-df-spinner');\n",
              "      try {\n",
              "        const charts = await google.colab.kernel.invokeFunction(\n",
              "            'suggestCharts', [key], {});\n",
              "      } catch (error) {\n",
              "        console.error('Error during call to suggestCharts:', error);\n",
              "      }\n",
              "      quickchartButtonEl.classList.remove('colab-df-spinner');\n",
              "      quickchartButtonEl.classList.add('colab-df-quickchart-complete');\n",
              "    }\n",
              "    (() => {\n",
              "      let quickchartButtonEl =\n",
              "        document.querySelector('#df-900ca729-9b41-4615-a361-4b148db62cee button');\n",
              "      quickchartButtonEl.style.display =\n",
              "        google.colab.kernel.accessAllowed ? 'block' : 'none';\n",
              "    })();\n",
              "  </script>\n",
              "</div>\n",
              "    </div>\n",
              "  </div>\n"
            ]
          },
          "metadata": {},
          "execution_count": 67
        }
      ]
    },
    {
      "cell_type": "code",
      "source": [
        "#Formating the datasets in the way we want. Features and labelts are being seperated and done seperately for both Train and valid sets\n",
        "classifier = SVC()\n",
        "\n",
        "X = pd.DataFrame(train_set.iloc[:, :-4].values)\n",
        "label_1 = train_set['label_1']\n",
        "label_2 = train_set['label_2']\n",
        "label_3 = train_set['label_3']\n",
        "label_4 = train_set['label_4']\n",
        "\n",
        "X_valid = pd.DataFrame(valid_set.iloc[:, :-4].values)\n",
        "label_1_valid = valid_set['label_1']\n",
        "label_2_valid = valid_set['label_2']\n",
        "label_3_valid = valid_set['label_3']\n",
        "label_4_valid = valid_set['label_4']\n",
        "\n",
        "#Initial accuracy is being checked after training through a svc model.\n",
        "\n",
        "classifier.fit(X,label_1)\n",
        "predicted_label1 = classifier.predict(X_valid)\n",
        "\n",
        "print(\"accuracy_score: \",metrics.accuracy_score(label_1_valid, predicted_label1))\n",
        "print(\"f1_score: \",f1_score(label_1_valid, predicted_label1, average='weighted')) #f-1 score\n",
        "print(\"precision_score: \",metrics.precision_score(label_1_valid, predicted_label1, average='weighted' ))\n",
        "print(\"recall_score: \",metrics.recall_score(label_1_valid, predicted_label1, average='weighted'))\n"
      ],
      "metadata": {
        "colab": {
          "base_uri": "https://localhost:8080/",
          "height": 0
        },
        "id": "IXl5a6hULC4O",
        "outputId": "4ff487f4-f0f2-4c4c-bce1-6db5edce92d5"
      },
      "execution_count": 68,
      "outputs": [
        {
          "output_type": "stream",
          "name": "stdout",
          "text": [
            "accuracy_score:  0.9578804347826086\n",
            "f1_score:  0.958863763969804\n",
            "precision_score:  0.9659790263182586\n",
            "recall_score:  0.9578804347826086\n"
          ]
        }
      ]
    },
    {
      "cell_type": "markdown",
      "source": [
        "###Label 1"
      ],
      "metadata": {
        "id": "tYkOUUIAHZRE"
      }
    },
    {
      "cell_type": "code",
      "source": [
        "# @title Grid Search\n",
        "\n",
        "#Trying out Grid search for parameter tuning.Takes a long time to porvide a good solution.\n",
        "\n",
        "from sklearn.model_selection import GridSearchCV\n",
        "\n",
        "clf = GridSearchCV(svm.SVC(gamma='auto'),{\n",
        "    'C': [1,10,20],\n",
        "    'kernel':['rbf','linear']\n",
        "}, cv=5, return_train_score=False)\n",
        "\n",
        "clf.fit(X,label_1)\n",
        "clf.cv_results_"
      ],
      "metadata": {
        "colab": {
          "base_uri": "https://localhost:8080/",
          "height": 0
        },
        "id": "f9AX5J3eycuR",
        "outputId": "e0919582-3c02-448f-a992-9bbf269e7123"
      },
      "execution_count": 8,
      "outputs": [
        {
          "output_type": "execute_result",
          "data": {
            "text/plain": [
              "{'mean_fit_time': array([276.7382236 ,  36.07352719, 121.2159224 ,  31.06083694,\n",
              "         89.258354  ,  30.99198766]),\n",
              " 'std_fit_time': array([1.73471667, 0.30717987, 0.55391181, 0.27634528, 0.43896617,\n",
              "        0.31075905]),\n",
              " 'mean_score_time': array([149.4195734 ,  66.37185683, 142.87124181,  61.50486188,\n",
              "        132.00097065,  60.70594659]),\n",
              " 'std_score_time': array([1.14305674, 3.41359039, 2.5736771 , 1.11341683, 0.76011462,\n",
              "        1.25514653]),\n",
              " 'param_C': masked_array(data=[1, 1, 10, 10, 20, 20],\n",
              "              mask=[False, False, False, False, False, False],\n",
              "        fill_value='?',\n",
              "             dtype=object),\n",
              " 'param_kernel': masked_array(data=['rbf', 'linear', 'rbf', 'linear', 'rbf', 'linear'],\n",
              "              mask=[False, False, False, False, False, False],\n",
              "        fill_value='?',\n",
              "             dtype=object),\n",
              " 'params': [{'C': 1, 'kernel': 'rbf'},\n",
              "  {'C': 1, 'kernel': 'linear'},\n",
              "  {'C': 10, 'kernel': 'rbf'},\n",
              "  {'C': 10, 'kernel': 'linear'},\n",
              "  {'C': 20, 'kernel': 'rbf'},\n",
              "  {'C': 20, 'kernel': 'linear'}],\n",
              " 'split0_test_score': array([0.4060271 , 0.96540656, 0.90246077, 0.96273181, 0.93063481,\n",
              "        0.96273181]),\n",
              " 'split1_test_score': array([0.41262482, 0.9657632 , 0.90638374, 0.95987874, 0.93063481,\n",
              "        0.95845221]),\n",
              " 'split2_test_score': array([0.39283167, 0.96629815, 0.90477889, 0.95791726, 0.93313124,\n",
              "        0.95773894]),\n",
              " 'split3_test_score': array([0.40192582, 0.9668331 , 0.90156919, 0.95773894, 0.92867332,\n",
              "        0.95809558]),\n",
              " 'split4_test_score': array([0.39711127, 0.96808131, 0.9081669 , 0.9636234 , 0.92885164,\n",
              "        0.96219686]),\n",
              " 'mean_test_score': array([0.40210414, 0.96647646, 0.9046719 , 0.96037803, 0.93038516,\n",
              "        0.95984308]),\n",
              " 'std_test_score': array([0.00688496, 0.0009368 , 0.0024361 , 0.00242248, 0.0016092 ,\n",
              "        0.00215874]),\n",
              " 'rank_test_score': array([6, 1, 5, 2, 4, 3], dtype=int32)}"
            ]
          },
          "metadata": {},
          "execution_count": 8
        }
      ]
    },
    {
      "cell_type": "code",
      "source": [
        "# @title Grid Search results\n",
        "df = pd.DataFrame(clf.cv_results_)\n",
        "df[['param_C','param_kernel','mean_test_score']]"
      ],
      "metadata": {
        "colab": {
          "base_uri": "https://localhost:8080/",
          "height": 237
        },
        "id": "eRhqv1SNLgK-",
        "outputId": "a8325a8b-9424-4417-d1f6-fc602b253f7b"
      },
      "execution_count": 13,
      "outputs": [
        {
          "output_type": "execute_result",
          "data": {
            "text/plain": [
              "  param_C param_kernel  mean_test_score\n",
              "0       1          rbf         0.402104\n",
              "1       1       linear         0.966476\n",
              "2      10          rbf         0.904672\n",
              "3      10       linear         0.960378\n",
              "4      20          rbf         0.930385\n",
              "5      20       linear         0.959843"
            ],
            "text/html": [
              "\n",
              "  <div id=\"df-6eafae37-98b1-4744-a79f-ca4341be5927\" class=\"colab-df-container\">\n",
              "    <div>\n",
              "<style scoped>\n",
              "    .dataframe tbody tr th:only-of-type {\n",
              "        vertical-align: middle;\n",
              "    }\n",
              "\n",
              "    .dataframe tbody tr th {\n",
              "        vertical-align: top;\n",
              "    }\n",
              "\n",
              "    .dataframe thead th {\n",
              "        text-align: right;\n",
              "    }\n",
              "</style>\n",
              "<table border=\"1\" class=\"dataframe\">\n",
              "  <thead>\n",
              "    <tr style=\"text-align: right;\">\n",
              "      <th></th>\n",
              "      <th>param_C</th>\n",
              "      <th>param_kernel</th>\n",
              "      <th>mean_test_score</th>\n",
              "    </tr>\n",
              "  </thead>\n",
              "  <tbody>\n",
              "    <tr>\n",
              "      <th>0</th>\n",
              "      <td>1</td>\n",
              "      <td>rbf</td>\n",
              "      <td>0.402104</td>\n",
              "    </tr>\n",
              "    <tr>\n",
              "      <th>1</th>\n",
              "      <td>1</td>\n",
              "      <td>linear</td>\n",
              "      <td>0.966476</td>\n",
              "    </tr>\n",
              "    <tr>\n",
              "      <th>2</th>\n",
              "      <td>10</td>\n",
              "      <td>rbf</td>\n",
              "      <td>0.904672</td>\n",
              "    </tr>\n",
              "    <tr>\n",
              "      <th>3</th>\n",
              "      <td>10</td>\n",
              "      <td>linear</td>\n",
              "      <td>0.960378</td>\n",
              "    </tr>\n",
              "    <tr>\n",
              "      <th>4</th>\n",
              "      <td>20</td>\n",
              "      <td>rbf</td>\n",
              "      <td>0.930385</td>\n",
              "    </tr>\n",
              "    <tr>\n",
              "      <th>5</th>\n",
              "      <td>20</td>\n",
              "      <td>linear</td>\n",
              "      <td>0.959843</td>\n",
              "    </tr>\n",
              "  </tbody>\n",
              "</table>\n",
              "</div>\n",
              "    <div class=\"colab-df-buttons\">\n",
              "\n",
              "  <div class=\"colab-df-container\">\n",
              "    <button class=\"colab-df-convert\" onclick=\"convertToInteractive('df-6eafae37-98b1-4744-a79f-ca4341be5927')\"\n",
              "            title=\"Convert this dataframe to an interactive table.\"\n",
              "            style=\"display:none;\">\n",
              "\n",
              "  <svg xmlns=\"http://www.w3.org/2000/svg\" height=\"24px\" viewBox=\"0 -960 960 960\">\n",
              "    <path d=\"M120-120v-720h720v720H120Zm60-500h600v-160H180v160Zm220 220h160v-160H400v160Zm0 220h160v-160H400v160ZM180-400h160v-160H180v160Zm440 0h160v-160H620v160ZM180-180h160v-160H180v160Zm440 0h160v-160H620v160Z\"/>\n",
              "  </svg>\n",
              "    </button>\n",
              "\n",
              "  <style>\n",
              "    .colab-df-container {\n",
              "      display:flex;\n",
              "      gap: 12px;\n",
              "    }\n",
              "\n",
              "    .colab-df-convert {\n",
              "      background-color: #E8F0FE;\n",
              "      border: none;\n",
              "      border-radius: 50%;\n",
              "      cursor: pointer;\n",
              "      display: none;\n",
              "      fill: #1967D2;\n",
              "      height: 32px;\n",
              "      padding: 0 0 0 0;\n",
              "      width: 32px;\n",
              "    }\n",
              "\n",
              "    .colab-df-convert:hover {\n",
              "      background-color: #E2EBFA;\n",
              "      box-shadow: 0px 1px 2px rgba(60, 64, 67, 0.3), 0px 1px 3px 1px rgba(60, 64, 67, 0.15);\n",
              "      fill: #174EA6;\n",
              "    }\n",
              "\n",
              "    .colab-df-buttons div {\n",
              "      margin-bottom: 4px;\n",
              "    }\n",
              "\n",
              "    [theme=dark] .colab-df-convert {\n",
              "      background-color: #3B4455;\n",
              "      fill: #D2E3FC;\n",
              "    }\n",
              "\n",
              "    [theme=dark] .colab-df-convert:hover {\n",
              "      background-color: #434B5C;\n",
              "      box-shadow: 0px 1px 3px 1px rgba(0, 0, 0, 0.15);\n",
              "      filter: drop-shadow(0px 1px 2px rgba(0, 0, 0, 0.3));\n",
              "      fill: #FFFFFF;\n",
              "    }\n",
              "  </style>\n",
              "\n",
              "    <script>\n",
              "      const buttonEl =\n",
              "        document.querySelector('#df-6eafae37-98b1-4744-a79f-ca4341be5927 button.colab-df-convert');\n",
              "      buttonEl.style.display =\n",
              "        google.colab.kernel.accessAllowed ? 'block' : 'none';\n",
              "\n",
              "      async function convertToInteractive(key) {\n",
              "        const element = document.querySelector('#df-6eafae37-98b1-4744-a79f-ca4341be5927');\n",
              "        const dataTable =\n",
              "          await google.colab.kernel.invokeFunction('convertToInteractive',\n",
              "                                                    [key], {});\n",
              "        if (!dataTable) return;\n",
              "\n",
              "        const docLinkHtml = 'Like what you see? Visit the ' +\n",
              "          '<a target=\"_blank\" href=https://colab.research.google.com/notebooks/data_table.ipynb>data table notebook</a>'\n",
              "          + ' to learn more about interactive tables.';\n",
              "        element.innerHTML = '';\n",
              "        dataTable['output_type'] = 'display_data';\n",
              "        await google.colab.output.renderOutput(dataTable, element);\n",
              "        const docLink = document.createElement('div');\n",
              "        docLink.innerHTML = docLinkHtml;\n",
              "        element.appendChild(docLink);\n",
              "      }\n",
              "    </script>\n",
              "  </div>\n",
              "\n",
              "\n",
              "<div id=\"df-ec302de4-b685-44c0-900d-a7fb19e40edd\">\n",
              "  <button class=\"colab-df-quickchart\" onclick=\"quickchart('df-ec302de4-b685-44c0-900d-a7fb19e40edd')\"\n",
              "            title=\"Suggest charts.\"\n",
              "            style=\"display:none;\">\n",
              "\n",
              "<svg xmlns=\"http://www.w3.org/2000/svg\" height=\"24px\"viewBox=\"0 0 24 24\"\n",
              "     width=\"24px\">\n",
              "    <g>\n",
              "        <path d=\"M19 3H5c-1.1 0-2 .9-2 2v14c0 1.1.9 2 2 2h14c1.1 0 2-.9 2-2V5c0-1.1-.9-2-2-2zM9 17H7v-7h2v7zm4 0h-2V7h2v10zm4 0h-2v-4h2v4z\"/>\n",
              "    </g>\n",
              "</svg>\n",
              "  </button>\n",
              "\n",
              "<style>\n",
              "  .colab-df-quickchart {\n",
              "      --bg-color: #E8F0FE;\n",
              "      --fill-color: #1967D2;\n",
              "      --hover-bg-color: #E2EBFA;\n",
              "      --hover-fill-color: #174EA6;\n",
              "      --disabled-fill-color: #AAA;\n",
              "      --disabled-bg-color: #DDD;\n",
              "  }\n",
              "\n",
              "  [theme=dark] .colab-df-quickchart {\n",
              "      --bg-color: #3B4455;\n",
              "      --fill-color: #D2E3FC;\n",
              "      --hover-bg-color: #434B5C;\n",
              "      --hover-fill-color: #FFFFFF;\n",
              "      --disabled-bg-color: #3B4455;\n",
              "      --disabled-fill-color: #666;\n",
              "  }\n",
              "\n",
              "  .colab-df-quickchart {\n",
              "    background-color: var(--bg-color);\n",
              "    border: none;\n",
              "    border-radius: 50%;\n",
              "    cursor: pointer;\n",
              "    display: none;\n",
              "    fill: var(--fill-color);\n",
              "    height: 32px;\n",
              "    padding: 0;\n",
              "    width: 32px;\n",
              "  }\n",
              "\n",
              "  .colab-df-quickchart:hover {\n",
              "    background-color: var(--hover-bg-color);\n",
              "    box-shadow: 0 1px 2px rgba(60, 64, 67, 0.3), 0 1px 3px 1px rgba(60, 64, 67, 0.15);\n",
              "    fill: var(--button-hover-fill-color);\n",
              "  }\n",
              "\n",
              "  .colab-df-quickchart-complete:disabled,\n",
              "  .colab-df-quickchart-complete:disabled:hover {\n",
              "    background-color: var(--disabled-bg-color);\n",
              "    fill: var(--disabled-fill-color);\n",
              "    box-shadow: none;\n",
              "  }\n",
              "\n",
              "  .colab-df-spinner {\n",
              "    border: 2px solid var(--fill-color);\n",
              "    border-color: transparent;\n",
              "    border-bottom-color: var(--fill-color);\n",
              "    animation:\n",
              "      spin 1s steps(1) infinite;\n",
              "  }\n",
              "\n",
              "  @keyframes spin {\n",
              "    0% {\n",
              "      border-color: transparent;\n",
              "      border-bottom-color: var(--fill-color);\n",
              "      border-left-color: var(--fill-color);\n",
              "    }\n",
              "    20% {\n",
              "      border-color: transparent;\n",
              "      border-left-color: var(--fill-color);\n",
              "      border-top-color: var(--fill-color);\n",
              "    }\n",
              "    30% {\n",
              "      border-color: transparent;\n",
              "      border-left-color: var(--fill-color);\n",
              "      border-top-color: var(--fill-color);\n",
              "      border-right-color: var(--fill-color);\n",
              "    }\n",
              "    40% {\n",
              "      border-color: transparent;\n",
              "      border-right-color: var(--fill-color);\n",
              "      border-top-color: var(--fill-color);\n",
              "    }\n",
              "    60% {\n",
              "      border-color: transparent;\n",
              "      border-right-color: var(--fill-color);\n",
              "    }\n",
              "    80% {\n",
              "      border-color: transparent;\n",
              "      border-right-color: var(--fill-color);\n",
              "      border-bottom-color: var(--fill-color);\n",
              "    }\n",
              "    90% {\n",
              "      border-color: transparent;\n",
              "      border-bottom-color: var(--fill-color);\n",
              "    }\n",
              "  }\n",
              "</style>\n",
              "\n",
              "  <script>\n",
              "    async function quickchart(key) {\n",
              "      const quickchartButtonEl =\n",
              "        document.querySelector('#' + key + ' button');\n",
              "      quickchartButtonEl.disabled = true;  // To prevent multiple clicks.\n",
              "      quickchartButtonEl.classList.add('colab-df-spinner');\n",
              "      try {\n",
              "        const charts = await google.colab.kernel.invokeFunction(\n",
              "            'suggestCharts', [key], {});\n",
              "      } catch (error) {\n",
              "        console.error('Error during call to suggestCharts:', error);\n",
              "      }\n",
              "      quickchartButtonEl.classList.remove('colab-df-spinner');\n",
              "      quickchartButtonEl.classList.add('colab-df-quickchart-complete');\n",
              "    }\n",
              "    (() => {\n",
              "      let quickchartButtonEl =\n",
              "        document.querySelector('#df-ec302de4-b685-44c0-900d-a7fb19e40edd button');\n",
              "      quickchartButtonEl.style.display =\n",
              "        google.colab.kernel.accessAllowed ? 'block' : 'none';\n",
              "    })();\n",
              "  </script>\n",
              "</div>\n",
              "    </div>\n",
              "  </div>\n"
            ]
          },
          "metadata": {},
          "execution_count": 13
        }
      ]
    },
    {
      "cell_type": "code",
      "source": [
        "# @title Grid Search Best Score\n",
        "clf.best_score_\n"
      ],
      "metadata": {
        "colab": {
          "base_uri": "https://localhost:8080/",
          "height": 0
        },
        "id": "0oHeM9XjMaCG",
        "outputId": "2b29add8-799f-40ae-ca57-983469e971d6"
      },
      "execution_count": 16,
      "outputs": [
        {
          "output_type": "execute_result",
          "data": {
            "text/plain": [
              "0.9664764621968616"
            ]
          },
          "metadata": {},
          "execution_count": 16
        }
      ]
    },
    {
      "cell_type": "code",
      "source": [
        "# @title Grid Search Best Params\n",
        "clf.best_params_"
      ],
      "metadata": {
        "colab": {
          "base_uri": "https://localhost:8080/",
          "height": 0
        },
        "id": "6t3EKKdLMln8",
        "outputId": "b6d5bf52-4f98-4eb8-abcf-d3601dbee38f"
      },
      "execution_count": 17,
      "outputs": [
        {
          "output_type": "execute_result",
          "data": {
            "text/plain": [
              "{'C': 1, 'kernel': 'linear'}"
            ]
          },
          "metadata": {},
          "execution_count": 17
        }
      ]
    },
    {
      "cell_type": "code",
      "source": [
        "# @title SVC classifier with the best Parameters\n",
        "classifier = SVC(C=1, kernel='linear')\n",
        "classifier.fit(X,label_1)\n",
        "\n",
        "predicted_label1 = classifier.predict(X_valid)\n",
        "\n",
        "print(\"accuracy_score: \",metrics.accuracy_score(label_1_valid, predicted_label1))\n",
        "print(\"f1_score: \",f1_score(label_1_valid, predicted_label1, average='weighted')) #f-1 score\n",
        "print(\"precision_score: \",metrics.precision_score(label_1_valid, predicted_label1, average='weighted' ))\n",
        "print(\"recall_score: \",metrics.recall_score(label_1_valid, predicted_label1, average='weighted'))\n",
        "\n",
        "\n",
        "\n"
      ],
      "metadata": {
        "colab": {
          "base_uri": "https://localhost:8080/",
          "height": 0
        },
        "id": "gf0yiK-_RBcl",
        "outputId": "8ce83f3c-bc70-4573-afb5-6c3c20ae6ac4"
      },
      "execution_count": 51,
      "outputs": [
        {
          "output_type": "stream",
          "name": "stdout",
          "text": [
            "accuracy_score:  0.9573333333333334\n",
            "f1_score:  0.9493557742842689\n",
            "precision_score:  0.9447065871635532\n",
            "recall_score:  0.9573333333333334\n"
          ]
        },
        {
          "output_type": "stream",
          "name": "stderr",
          "text": [
            "/usr/local/lib/python3.10/dist-packages/sklearn/metrics/_classification.py:1344: UndefinedMetricWarning: Precision is ill-defined and being set to 0.0 in labels with no predicted samples. Use `zero_division` parameter to control this behavior.\n",
            "  _warn_prf(average, modifier, msg_start, len(result))\n"
          ]
        }
      ]
    },
    {
      "cell_type": "code",
      "source": [
        "print(X.shape)  # Check the shape of X_train\n",
        "print(test_set.shape)   # Check the shape of X_test"
      ],
      "metadata": {
        "colab": {
          "base_uri": "https://localhost:8080/",
          "height": 0
        },
        "id": "rfPNoZn0Uqh3",
        "outputId": "c0c75f93-5235-405f-c797-61018a21ad7c"
      },
      "execution_count": 54,
      "outputs": [
        {
          "output_type": "stream",
          "name": "stdout",
          "text": [
            "(28040, 768)\n",
            "(744, 769)\n"
          ]
        }
      ]
    },
    {
      "cell_type": "code",
      "source": [
        "# @title Making a csv with the test results\n",
        "#Since svm gave the best accuracy\n",
        "\n",
        "X_test = pd.DataFrame(test_set.iloc[:, 1:].values)\n",
        "predicted_label_test = classifier.predict(X_test)\n",
        "\n",
        "predicted_df = pd.DataFrame({'label_1': predicted_label_test})\n",
        "\n",
        "# Save the DataFrame to a CSV file\n",
        "predicted_df.to_csv('/content/drive/MyDrive/ML/Results/predicted_L7_label1.csv', index=False)\n"
      ],
      "metadata": {
        "id": "Iqiq7C6JUUbe"
      },
      "execution_count": 55,
      "outputs": []
    },
    {
      "cell_type": "code",
      "source": [
        "selector = SelectKBest(f_classif, k=200)\n",
        "x_new = selector.fit_transform(X, label_1)\n",
        "x_valid_df_after_f_classif = selector.transform(X_valid)\n",
        "\n",
        "classifier = SVC(C=1, kernel='linear')\n",
        "classifier.fit(x_new,label_1)\n",
        "predicted_label1 = classifier.predict(x_valid_df_after_f_classif)\n",
        "\n",
        "print(\"accuracy_score: \",metrics.accuracy_score(label_1_valid, predicted_label1))\n",
        "print(\"f1_score: \",f1_score(label_1_valid, predicted_label1, average='weighted')) #f-1 score\n",
        "print(\"precision_score: \",metrics.precision_score(label_1_valid, predicted_label1, average='weighted' ))\n",
        "print(\"recall_score: \",metrics.recall_score(label_1_valid, predicted_label1, average='weighted'))"
      ],
      "metadata": {
        "colab": {
          "base_uri": "https://localhost:8080/",
          "height": 0
        },
        "id": "mMXPSOUz6M_B",
        "outputId": "78af1c24-58d5-4438-d948-5549cc08266b"
      },
      "execution_count": 23,
      "outputs": [
        {
          "output_type": "stream",
          "name": "stdout",
          "text": [
            "accuracy_score:  0.9453333333333334\n",
            "f1_score:  0.9370716435107725\n",
            "precision_score:  0.9329798558739735\n",
            "recall_score:  0.9453333333333334\n"
          ]
        },
        {
          "output_type": "stream",
          "name": "stderr",
          "text": [
            "/usr/local/lib/python3.10/dist-packages/sklearn/metrics/_classification.py:1344: UndefinedMetricWarning: Precision is ill-defined and being set to 0.0 in labels with no predicted samples. Use `zero_division` parameter to control this behavior.\n",
            "  _warn_prf(average, modifier, msg_start, len(result))\n"
          ]
        }
      ]
    },
    {
      "cell_type": "code",
      "source": [
        "# @title PCA on the datasets\n",
        "from sklearn.decomposition import PCA\n",
        "\n",
        "pca = PCA(n_components=0.95, svd_solver='full')\n",
        "pca.fit(X)\n",
        "x_train_trf = pd.DataFrame(pca.transform(X))\n",
        "x_valid_trf_pca = pd.DataFrame(pca.transform(X_valid))\n",
        "print('Shape after PCA: ',x_train_trf.shape)\n"
      ],
      "metadata": {
        "colab": {
          "base_uri": "https://localhost:8080/",
          "height": 0
        },
        "id": "LMa6ws9__xD5",
        "outputId": "f21e2d9d-476e-407d-b1b1-73fc93f98526"
      },
      "execution_count": 69,
      "outputs": [
        {
          "output_type": "stream",
          "name": "stdout",
          "text": [
            "Shape after PCA:  (28040, 238)\n"
          ]
        }
      ]
    },
    {
      "cell_type": "code",
      "source": [
        "# @title using the classifier to check accuracy\n",
        "\n",
        "classifier = svm.SVC(C=1, kernel='linear')\n",
        "classifier.fit(x_train_trf,label_1)\n",
        "predicted_label1 = classifier.predict(x_valid_trf_pca)\n",
        "\n",
        "print(\"accuracy_score: \",metrics.accuracy_score(label_1_valid, predicted_label1))\n",
        "print(\"f1_score: \",f1_score(label_1_valid, predicted_label1, average='weighted')) #f-1 score\n",
        "print(\"precision_score: \",metrics.precision_score(label_1_valid, predicted_label1, average='weighted' ))\n",
        "print(\"recall_score: \",metrics.recall_score(label_1_valid, predicted_label1, average='weighted'))"
      ],
      "metadata": {
        "colab": {
          "base_uri": "https://localhost:8080/",
          "height": 0
        },
        "id": "5pg0rAa4AVo5",
        "outputId": "b4ec4208-7a1e-42a9-e515-c564e93164bb"
      },
      "execution_count": 25,
      "outputs": [
        {
          "output_type": "stream",
          "name": "stdout",
          "text": [
            "accuracy_score:  0.9466666666666667\n",
            "f1_score:  0.9387835708594621\n",
            "precision_score:  0.9350008292475784\n",
            "recall_score:  0.9466666666666667\n"
          ]
        },
        {
          "output_type": "stream",
          "name": "stderr",
          "text": [
            "/usr/local/lib/python3.10/dist-packages/sklearn/metrics/_classification.py:1344: UndefinedMetricWarning: Precision is ill-defined and being set to 0.0 in labels with no predicted samples. Use `zero_division` parameter to control this behavior.\n",
            "  _warn_prf(average, modifier, msg_start, len(result))\n"
          ]
        }
      ]
    },
    {
      "cell_type": "code",
      "source": [
        "# @title svm classifier with parameters\n",
        "classifier = SVC(C=1, kernel='linear')\n",
        "classifier.fit(X,label_1)\n",
        "\n",
        "predicted_label1 = classifier.predict(X_valid)\n",
        "\n",
        "print(\"accuracy_score: \",metrics.accuracy_score(label_1_valid, predicted_label1))\n",
        "print(\"f1_score: \",f1_score(label_1_valid, predicted_label1, average='weighted')) #f-1 score\n",
        "print(\"precision_score: \",metrics.precision_score(label_1_valid, predicted_label1, average='weighted' ))\n",
        "print(\"recall_score: \",metrics.recall_score(label_1_valid, predicted_label1, average='weighted'))"
      ],
      "metadata": {
        "id": "3sVtrpwXXWzE"
      },
      "execution_count": null,
      "outputs": []
    },
    {
      "cell_type": "markdown",
      "source": [
        "#Label 3"
      ],
      "metadata": {
        "id": "9V9oXqUIJXIG"
      }
    },
    {
      "cell_type": "code",
      "source": [
        "# @title PCA for Label 3\n",
        "from sklearn.decomposition import PCA\n",
        "\n",
        "#Validation\n",
        "pca = PCA(n_components=0.95, svd_solver='full')\n",
        "pca.fit(X)\n",
        "x_train_pca = pd.DataFrame(pca.transform(X)) #train\n",
        "x_valid_pca = pd.DataFrame(pca.transform(X_valid)) #valid\n",
        "x_test_pca = pd.DataFrame(pca.transform(X_test))\n",
        "print('Shape after PCA: ',x_train_pca.shape)\n"
      ],
      "metadata": {
        "colab": {
          "base_uri": "https://localhost:8080/",
          "height": 0
        },
        "id": "pHKkN38-gxfT",
        "outputId": "735878b7-5a32-4f1f-fb0e-0644e7fe7aaa"
      },
      "execution_count": 70,
      "outputs": [
        {
          "output_type": "stream",
          "name": "stdout",
          "text": [
            "Shape after PCA:  (28040, 238)\n"
          ]
        }
      ]
    },
    {
      "cell_type": "code",
      "source": [
        "# @title svm classifier without pca\n",
        "from sklearn import svm\n",
        "\n",
        "# For classification with a linear kernel\n",
        "classifier = svm.SVC(kernel='linear', C=1)\n",
        "\n",
        "# For regression with a linear kernel\n",
        "# classifier = svm.SVR(kernel='linear', C=1.0)\n",
        "\n",
        "# Train the model\n",
        "# classifier.fit(x_train_df, y_train_df)\n",
        "classifier.fit(X, label_3)\n",
        "\n",
        "#predict for validation\n",
        "y_valid_pred = classifier.predict(X_valid)\n",
        "\n",
        "#accuracy\n",
        "print(\"accuracy_score: \",metrics.accuracy_score(label_3_valid, y_valid_pred))"
      ],
      "metadata": {
        "colab": {
          "base_uri": "https://localhost:8080/",
          "height": 0
        },
        "id": "R1Otx3bMi3hj",
        "outputId": "e0076668-53d9-48e4-f2e7-701de0c09673"
      },
      "execution_count": 57,
      "outputs": [
        {
          "output_type": "stream",
          "name": "stdout",
          "text": [
            "accuracy_score:  0.9986666666666667\n"
          ]
        }
      ]
    },
    {
      "cell_type": "code",
      "source": [
        "# @title svm classifier with pca\n",
        "from sklearn import svm\n",
        "\n",
        "# For classification with a linear kernel\n",
        "classifier = svm.SVC(kernel='linear', C=1)\n",
        "\n",
        "# For regression with a linear kernel\n",
        "# classifier = svm.SVR(kernel='linear', C=1.0)\n",
        "\n",
        "# Train the model\n",
        "# classifier.fit(x_train_df, y_train_df)\n",
        "classifier.fit(x_train_pca, label_3)\n",
        "\n",
        "#predict for validation\n",
        "y_valid_pred = classifier.predict(x_valid_pca)\n",
        "\n",
        "#accuracy\n",
        "print(\"accuracy_score: \",metrics.accuracy_score(label_3_valid, y_valid_pred))"
      ],
      "metadata": {
        "colab": {
          "base_uri": "https://localhost:8080/",
          "height": 0
        },
        "id": "-nH6n0Oskytt",
        "outputId": "b1e35771-87a5-48f0-805e-748be42bfa70"
      },
      "execution_count": 44,
      "outputs": [
        {
          "output_type": "stream",
          "name": "stdout",
          "text": [
            "accuracy_score:  0.9973333333333333\n"
          ]
        }
      ]
    },
    {
      "cell_type": "code",
      "source": [
        "# @title Label 3 random search\n",
        "from sklearn.svm import SVC\n",
        "from sklearn.model_selection import RandomizedSearchCV\n",
        "from scipy.stats import uniform, randint  # For defining parameter distributions\n",
        "import numpy as np\n",
        "\n",
        "param_dist = {\n",
        "    'C': [100,10,1,0,0.1,0.01],\n",
        "    'kernel': ['rbf','linear','poly','sigmoid'],\n",
        "    'gamma': ['scale','auto'],\n",
        "    'degree': [1,2,3,4],  # For the polynomial kernel\n",
        "    'class_weight' : ['none','balanced']\n",
        "}\n",
        "\n",
        "svm = SVC()\n",
        "\n",
        "random_search = RandomizedSearchCV(\n",
        "    svm, param_distributions=param_dist, n_iter=10, cv=5, n_jobs=-1, random_state=42, scoring='accuracy'\n",
        ")\n",
        "\n",
        "random_search.fit(x_train_pca, label_3)\n",
        "\n",
        "best_params = random_search.best_params_\n",
        "best_model = random_search.best_estimator_\n",
        "\n",
        "print(\"best parameters:\", best_params)"
      ],
      "metadata": {
        "colab": {
          "base_uri": "https://localhost:8080/",
          "height": 390
        },
        "id": "0J-Yz1gnmKEt",
        "outputId": "44279afb-5f8d-4203-cd47-c259c5882ed0"
      },
      "execution_count": 45,
      "outputs": [
        {
          "output_type": "error",
          "ename": "KeyboardInterrupt",
          "evalue": "ignored",
          "traceback": [
            "\u001b[0;31m---------------------------------------------------------------------------\u001b[0m",
            "\u001b[0;31mKeyboardInterrupt\u001b[0m                         Traceback (most recent call last)",
            "\u001b[0;32m<ipython-input-45-8a0ff73eb59c>\u001b[0m in \u001b[0;36m<cell line: 20>\u001b[0;34m()\u001b[0m\n\u001b[1;32m     18\u001b[0m )\n\u001b[1;32m     19\u001b[0m \u001b[0;34m\u001b[0m\u001b[0m\n\u001b[0;32m---> 20\u001b[0;31m \u001b[0mrandom_search\u001b[0m\u001b[0;34m.\u001b[0m\u001b[0mfit\u001b[0m\u001b[0;34m(\u001b[0m\u001b[0mx_train_pca\u001b[0m\u001b[0;34m,\u001b[0m \u001b[0mlabel_3\u001b[0m\u001b[0;34m)\u001b[0m\u001b[0;34m\u001b[0m\u001b[0;34m\u001b[0m\u001b[0m\n\u001b[0m\u001b[1;32m     21\u001b[0m \u001b[0;34m\u001b[0m\u001b[0m\n\u001b[1;32m     22\u001b[0m \u001b[0mbest_params\u001b[0m \u001b[0;34m=\u001b[0m \u001b[0mrandom_search\u001b[0m\u001b[0;34m.\u001b[0m\u001b[0mbest_params_\u001b[0m\u001b[0;34m\u001b[0m\u001b[0;34m\u001b[0m\u001b[0m\n",
            "\u001b[0;32m/usr/local/lib/python3.10/dist-packages/sklearn/model_selection/_search.py\u001b[0m in \u001b[0;36mfit\u001b[0;34m(self, X, y, groups, **fit_params)\u001b[0m\n\u001b[1;32m    872\u001b[0m                 \u001b[0;32mreturn\u001b[0m \u001b[0mresults\u001b[0m\u001b[0;34m\u001b[0m\u001b[0;34m\u001b[0m\u001b[0m\n\u001b[1;32m    873\u001b[0m \u001b[0;34m\u001b[0m\u001b[0m\n\u001b[0;32m--> 874\u001b[0;31m             \u001b[0mself\u001b[0m\u001b[0;34m.\u001b[0m\u001b[0m_run_search\u001b[0m\u001b[0;34m(\u001b[0m\u001b[0mevaluate_candidates\u001b[0m\u001b[0;34m)\u001b[0m\u001b[0;34m\u001b[0m\u001b[0;34m\u001b[0m\u001b[0m\n\u001b[0m\u001b[1;32m    875\u001b[0m \u001b[0;34m\u001b[0m\u001b[0m\n\u001b[1;32m    876\u001b[0m             \u001b[0;31m# multimetric is determined here because in the case of a callable\u001b[0m\u001b[0;34m\u001b[0m\u001b[0;34m\u001b[0m\u001b[0m\n",
            "\u001b[0;32m/usr/local/lib/python3.10/dist-packages/sklearn/model_selection/_search.py\u001b[0m in \u001b[0;36m_run_search\u001b[0;34m(self, evaluate_candidates)\u001b[0m\n\u001b[1;32m   1766\u001b[0m     \u001b[0;32mdef\u001b[0m \u001b[0m_run_search\u001b[0m\u001b[0;34m(\u001b[0m\u001b[0mself\u001b[0m\u001b[0;34m,\u001b[0m \u001b[0mevaluate_candidates\u001b[0m\u001b[0;34m)\u001b[0m\u001b[0;34m:\u001b[0m\u001b[0;34m\u001b[0m\u001b[0;34m\u001b[0m\u001b[0m\n\u001b[1;32m   1767\u001b[0m         \u001b[0;34m\"\"\"Search n_iter candidates from param_distributions\"\"\"\u001b[0m\u001b[0;34m\u001b[0m\u001b[0;34m\u001b[0m\u001b[0m\n\u001b[0;32m-> 1768\u001b[0;31m         evaluate_candidates(\n\u001b[0m\u001b[1;32m   1769\u001b[0m             ParameterSampler(\n\u001b[1;32m   1770\u001b[0m                 \u001b[0mself\u001b[0m\u001b[0;34m.\u001b[0m\u001b[0mparam_distributions\u001b[0m\u001b[0;34m,\u001b[0m \u001b[0mself\u001b[0m\u001b[0;34m.\u001b[0m\u001b[0mn_iter\u001b[0m\u001b[0;34m,\u001b[0m \u001b[0mrandom_state\u001b[0m\u001b[0;34m=\u001b[0m\u001b[0mself\u001b[0m\u001b[0;34m.\u001b[0m\u001b[0mrandom_state\u001b[0m\u001b[0;34m\u001b[0m\u001b[0;34m\u001b[0m\u001b[0m\n",
            "\u001b[0;32m/usr/local/lib/python3.10/dist-packages/sklearn/model_selection/_search.py\u001b[0m in \u001b[0;36mevaluate_candidates\u001b[0;34m(candidate_params, cv, more_results)\u001b[0m\n\u001b[1;32m    819\u001b[0m                     )\n\u001b[1;32m    820\u001b[0m \u001b[0;34m\u001b[0m\u001b[0m\n\u001b[0;32m--> 821\u001b[0;31m                 out = parallel(\n\u001b[0m\u001b[1;32m    822\u001b[0m                     delayed(_fit_and_score)(\n\u001b[1;32m    823\u001b[0m                         \u001b[0mclone\u001b[0m\u001b[0;34m(\u001b[0m\u001b[0mbase_estimator\u001b[0m\u001b[0;34m)\u001b[0m\u001b[0;34m,\u001b[0m\u001b[0;34m\u001b[0m\u001b[0;34m\u001b[0m\u001b[0m\n",
            "\u001b[0;32m/usr/local/lib/python3.10/dist-packages/sklearn/utils/parallel.py\u001b[0m in \u001b[0;36m__call__\u001b[0;34m(self, iterable)\u001b[0m\n\u001b[1;32m     61\u001b[0m             \u001b[0;32mfor\u001b[0m \u001b[0mdelayed_func\u001b[0m\u001b[0;34m,\u001b[0m \u001b[0margs\u001b[0m\u001b[0;34m,\u001b[0m \u001b[0mkwargs\u001b[0m \u001b[0;32min\u001b[0m \u001b[0miterable\u001b[0m\u001b[0;34m\u001b[0m\u001b[0;34m\u001b[0m\u001b[0m\n\u001b[1;32m     62\u001b[0m         )\n\u001b[0;32m---> 63\u001b[0;31m         \u001b[0;32mreturn\u001b[0m \u001b[0msuper\u001b[0m\u001b[0;34m(\u001b[0m\u001b[0;34m)\u001b[0m\u001b[0;34m.\u001b[0m\u001b[0m__call__\u001b[0m\u001b[0;34m(\u001b[0m\u001b[0miterable_with_config\u001b[0m\u001b[0;34m)\u001b[0m\u001b[0;34m\u001b[0m\u001b[0;34m\u001b[0m\u001b[0m\n\u001b[0m\u001b[1;32m     64\u001b[0m \u001b[0;34m\u001b[0m\u001b[0m\n\u001b[1;32m     65\u001b[0m \u001b[0;34m\u001b[0m\u001b[0m\n",
            "\u001b[0;32m/usr/local/lib/python3.10/dist-packages/joblib/parallel.py\u001b[0m in \u001b[0;36m__call__\u001b[0;34m(self, iterable)\u001b[0m\n\u001b[1;32m   1950\u001b[0m         \u001b[0mnext\u001b[0m\u001b[0;34m(\u001b[0m\u001b[0moutput\u001b[0m\u001b[0;34m)\u001b[0m\u001b[0;34m\u001b[0m\u001b[0;34m\u001b[0m\u001b[0m\n\u001b[1;32m   1951\u001b[0m \u001b[0;34m\u001b[0m\u001b[0m\n\u001b[0;32m-> 1952\u001b[0;31m         \u001b[0;32mreturn\u001b[0m \u001b[0moutput\u001b[0m \u001b[0;32mif\u001b[0m \u001b[0mself\u001b[0m\u001b[0;34m.\u001b[0m\u001b[0mreturn_generator\u001b[0m \u001b[0;32melse\u001b[0m \u001b[0mlist\u001b[0m\u001b[0;34m(\u001b[0m\u001b[0moutput\u001b[0m\u001b[0;34m)\u001b[0m\u001b[0;34m\u001b[0m\u001b[0;34m\u001b[0m\u001b[0m\n\u001b[0m\u001b[1;32m   1953\u001b[0m \u001b[0;34m\u001b[0m\u001b[0m\n\u001b[1;32m   1954\u001b[0m     \u001b[0;32mdef\u001b[0m \u001b[0m__repr__\u001b[0m\u001b[0;34m(\u001b[0m\u001b[0mself\u001b[0m\u001b[0;34m)\u001b[0m\u001b[0;34m:\u001b[0m\u001b[0;34m\u001b[0m\u001b[0;34m\u001b[0m\u001b[0m\n",
            "\u001b[0;32m/usr/local/lib/python3.10/dist-packages/joblib/parallel.py\u001b[0m in \u001b[0;36m_get_outputs\u001b[0;34m(self, iterator, pre_dispatch)\u001b[0m\n\u001b[1;32m   1593\u001b[0m \u001b[0;34m\u001b[0m\u001b[0m\n\u001b[1;32m   1594\u001b[0m             \u001b[0;32mwith\u001b[0m \u001b[0mself\u001b[0m\u001b[0;34m.\u001b[0m\u001b[0m_backend\u001b[0m\u001b[0;34m.\u001b[0m\u001b[0mretrieval_context\u001b[0m\u001b[0;34m(\u001b[0m\u001b[0;34m)\u001b[0m\u001b[0;34m:\u001b[0m\u001b[0;34m\u001b[0m\u001b[0;34m\u001b[0m\u001b[0m\n\u001b[0;32m-> 1595\u001b[0;31m                 \u001b[0;32myield\u001b[0m \u001b[0;32mfrom\u001b[0m \u001b[0mself\u001b[0m\u001b[0;34m.\u001b[0m\u001b[0m_retrieve\u001b[0m\u001b[0;34m(\u001b[0m\u001b[0;34m)\u001b[0m\u001b[0;34m\u001b[0m\u001b[0;34m\u001b[0m\u001b[0m\n\u001b[0m\u001b[1;32m   1596\u001b[0m \u001b[0;34m\u001b[0m\u001b[0m\n\u001b[1;32m   1597\u001b[0m         \u001b[0;32mexcept\u001b[0m \u001b[0mGeneratorExit\u001b[0m\u001b[0;34m:\u001b[0m\u001b[0;34m\u001b[0m\u001b[0;34m\u001b[0m\u001b[0m\n",
            "\u001b[0;32m/usr/local/lib/python3.10/dist-packages/joblib/parallel.py\u001b[0m in \u001b[0;36m_retrieve\u001b[0;34m(self)\u001b[0m\n\u001b[1;32m   1705\u001b[0m                 (self._jobs[0].get_status(\n\u001b[1;32m   1706\u001b[0m                     timeout=self.timeout) == TASK_PENDING)):\n\u001b[0;32m-> 1707\u001b[0;31m                 \u001b[0mtime\u001b[0m\u001b[0;34m.\u001b[0m\u001b[0msleep\u001b[0m\u001b[0;34m(\u001b[0m\u001b[0;36m0.01\u001b[0m\u001b[0;34m)\u001b[0m\u001b[0;34m\u001b[0m\u001b[0;34m\u001b[0m\u001b[0m\n\u001b[0m\u001b[1;32m   1708\u001b[0m                 \u001b[0;32mcontinue\u001b[0m\u001b[0;34m\u001b[0m\u001b[0;34m\u001b[0m\u001b[0m\n\u001b[1;32m   1709\u001b[0m \u001b[0;34m\u001b[0m\u001b[0m\n",
            "\u001b[0;31mKeyboardInterrupt\u001b[0m: "
          ]
        }
      ]
    },
    {
      "cell_type": "code",
      "source": [
        "print(\"Shape of X:\", x_train_pca.shape)\n",
        "print(\"Shape of y:\", label_3.shape)"
      ],
      "metadata": {
        "id": "5QhkVKGq4xyQ"
      },
      "execution_count": null,
      "outputs": []
    },
    {
      "cell_type": "code",
      "source": [
        "# @title Hyper parameter tuning\n",
        "from sklearn.svm import SVC\n",
        "from sklearn.metrics import classification_report\n",
        "from sklearn.model_selection import cross_val_score, StratifiedKFold\n",
        "from scipy.stats import uniform\n",
        "from sklearn.experimental import enable_halving_search_cv\n",
        "from sklearn.model_selection import GridSearchCV, RandomizedSearchCV,HalvingGridSearchCV\n",
        "\n",
        "# Define the hyperparameter grid\n",
        "param_grid = {\n",
        "    'C': [0.1,1,10,20,100],\n",
        "    'kernel': ['linear', 'rbf', 'poly', 'sigmoid'],  # Experiment with different kernels\n",
        "    'gamma':['scale', 'auto'],\n",
        "    'degree': [1,2,3,4]\n",
        "\n",
        "}\n",
        "\n",
        "# Create an SVM classifier\n",
        "svm_classifier = SVC(class_weight='balanced')\n",
        "\n",
        "# Perform grid search with cross-validation\n",
        "grid_search = HalvingGridSearchCV(svm_classifier, param_grid, scoring='accuracy', cv=5,n_jobs=-1, factor=2, verbose=1)\n",
        "grid_search.fit(x_train_pca, label_3)\n",
        "\n",
        "# Get the best model and hyperparameters\n",
        "best_svm_classifier = grid_search.best_estimator_\n",
        "best_params = grid_search.best_params_\n",
        "\n",
        "# Make predictions on the validation set\n",
        "y_pred = best_svm_classifier.predict(x_valid_pca)\n",
        "\n",
        "# Evaluate the model\n",
        "print(\"Best Hyperparameters:\", best_params)"
      ],
      "metadata": {
        "id": "AF2-7COD0HL1"
      },
      "execution_count": null,
      "outputs": []
    },
    {
      "cell_type": "code",
      "source": [
        "#@title svm classifier with pca\n",
        "from sklearn import svm\n",
        "classifier_label3 = svm.SVC(kernel='rbf', C=10, gamma='auto', degree=1)\n",
        "\n",
        "classifier_label3.fit(x_train_pca, label_3)\n",
        "\n",
        "#predict for validation\n",
        "y_valid_pred = classifier_label3.predict(x_valid_pca)\n",
        "\n",
        "#accuracy\n",
        "print(\"accuracy_score: \",metrics.accuracy_score(label_3_valid, y_valid_pred))\n",
        "\n",
        "#predict\n",
        "# y_test_pred = classifier.predict(x_test_df)\n",
        "#y_test_predict_after_pca = classifier.predict(x_test_df_pca)\n"
      ],
      "metadata": {
        "colab": {
          "base_uri": "https://localhost:8080/",
          "height": 0
        },
        "id": "vlI56G4k8Wfx",
        "outputId": "eb384aeb-a932-41ee-cbc5-e0a07d011bd8"
      },
      "execution_count": 60,
      "outputs": [
        {
          "output_type": "stream",
          "name": "stdout",
          "text": [
            "accuracy_score:  0.9973333333333333\n"
          ]
        }
      ]
    },
    {
      "cell_type": "code",
      "source": [
        "#@title Making csv for label 3\n",
        "predicted_label_test = classifier_label3.predict(x_test_pca)\n",
        "\n",
        "predicted_df = pd.DataFrame({'label_3': predicted_label_test})\n",
        "\n",
        "# Save the DataFrame to a CSV file\n",
        "predicted_df.to_csv('/content/drive/MyDrive/ML/Results/predicted_L7_label3.csv', index=False)"
      ],
      "metadata": {
        "id": "pzWgvhjlbUQa"
      },
      "execution_count": 63,
      "outputs": []
    },
    {
      "cell_type": "markdown",
      "source": [
        "# Label 4\n"
      ],
      "metadata": {
        "id": "AwFqLF_C386p"
      }
    },
    {
      "cell_type": "code",
      "source": [
        "#@title svm Classifier without pca\n",
        "from sklearn import svm\n",
        "\n",
        "# For classification with a linear kernel\n",
        "classifier = svm.SVC(kernel='linear', C=1)\n",
        "\n",
        "# For regression with a linear kernel\n",
        "# classifier = svm.SVR(kernel='linear', C=1.0)\n",
        "\n",
        "# Train the model\n",
        "# classifier.fit(x_train_df, y_train_df)\n",
        "classifier.fit(X, label_4)\n",
        "\n",
        "#predict for validation\n",
        "y_valid_pred = classifier.predict(X_valid)\n",
        "\n",
        "#accuracy\n",
        "print(\"accuracy_score: \",metrics.accuracy_score(label_4_valid, y_valid_pred))"
      ],
      "metadata": {
        "colab": {
          "base_uri": "https://localhost:8080/",
          "height": 0
        },
        "id": "u_0re_Wv4AQL",
        "outputId": "ce727831-6ea6-4855-f4b0-253aa453c61e"
      },
      "execution_count": 47,
      "outputs": [
        {
          "output_type": "stream",
          "name": "stdout",
          "text": [
            "accuracy_score:  0.956\n"
          ]
        }
      ]
    },
    {
      "cell_type": "code",
      "source": [
        "#@title svm classifier with cpa\n",
        "from sklearn import svm\n",
        "\n",
        "# For classification with a linear kernel\n",
        "classifier = svm.SVC(kernel='linear', C=1)\n",
        "\n",
        "# For regression with a linear kernel\n",
        "# classifier = svm.SVR(kernel='linear', C=1.0)\n",
        "\n",
        "# Train the model\n",
        "# classifier.fit(x_train_df, y_train_df)\n",
        "classifier.fit(x_train_pca, label_4)\n",
        "\n",
        "#predict for validation\n",
        "y_valid_pred = classifier.predict(x_valid_pca)\n",
        "\n",
        "#accuracy\n",
        "print(\"accuracy_score: \",metrics.accuracy_score(label_4_valid, y_valid_pred))"
      ],
      "metadata": {
        "colab": {
          "base_uri": "https://localhost:8080/",
          "height": 0
        },
        "id": "StdzSd49Hs9w",
        "outputId": "daf3ff3c-6f3a-433b-c0c8-e4f35183c0ce"
      },
      "execution_count": 48,
      "outputs": [
        {
          "output_type": "stream",
          "name": "stdout",
          "text": [
            "accuracy_score:  0.9333333333333333\n"
          ]
        }
      ]
    },
    {
      "cell_type": "code",
      "source": [
        "#@title Hyper Parameter testing\n",
        "from sklearn.svm import SVC\n",
        "from sklearn.metrics import classification_report\n",
        "from sklearn.model_selection import cross_val_score, StratifiedKFold\n",
        "from scipy.stats import uniform\n",
        "from sklearn.experimental import enable_halving_search_cv\n",
        "from sklearn.model_selection import GridSearchCV, RandomizedSearchCV,HalvingGridSearchCV\n",
        "\n",
        "# Define the hyperparameter grid\n",
        "param_grid = {\n",
        "    'C': [0.1,1,10,20,100],\n",
        "    'kernel': ['linear', 'rbf', 'poly', 'sigmoid'],  # Experiment with different kernels\n",
        "    'gamma':['scale', 'auto'],\n",
        "    'degree': [1,2,3,4]\n",
        "\n",
        "}\n",
        "\n",
        "# Create an SVM classifier\n",
        "svm_classifier = SVC(class_weight='balanced')\n",
        "\n",
        "# Perform grid search with cross-validation\n",
        "grid_search = HalvingGridSearchCV(svm_classifier, param_grid, scoring='accuracy', cv=5,n_jobs=-1, factor=2, verbose=1)\n",
        "grid_search.fit(x_train_pca, label_4)\n",
        "\n",
        "# Get the best model and hyperparameters\n",
        "best_svm_classifier = grid_search.best_estimator_\n",
        "best_params = grid_search.best_params_\n",
        "\n",
        "# Make predictions on the validation set\n",
        "y_pred = best_svm_classifier.predict(x_valid_pca)\n",
        "\n",
        "# Evaluate the model\n",
        "print(\"Best Hyperparameters:\", best_params)\n",
        "print(\"accuracy_score: \",metrics.accuracy_score(label_4_valid, y_pred))"
      ],
      "metadata": {
        "colab": {
          "base_uri": "https://localhost:8080/",
          "height": 0
        },
        "id": "9wmhytkcIp-K",
        "outputId": "71a1e640-91a9-4006-8400-d77323ddb0d3"
      },
      "execution_count": 49,
      "outputs": [
        {
          "output_type": "stream",
          "name": "stdout",
          "text": [
            "n_iterations: 8\n",
            "n_required_iterations: 8\n",
            "n_possible_iterations: 8\n",
            "min_resources_: 219\n",
            "max_resources_: 28040\n",
            "aggressive_elimination: False\n",
            "factor: 2\n",
            "----------\n",
            "iter: 0\n",
            "n_candidates: 160\n",
            "n_resources: 219\n",
            "Fitting 5 folds for each of 160 candidates, totalling 800 fits\n",
            "----------\n",
            "iter: 1\n",
            "n_candidates: 80\n",
            "n_resources: 438\n",
            "Fitting 5 folds for each of 80 candidates, totalling 400 fits\n",
            "----------\n",
            "iter: 2\n",
            "n_candidates: 40\n",
            "n_resources: 876\n",
            "Fitting 5 folds for each of 40 candidates, totalling 200 fits\n",
            "----------\n",
            "iter: 3\n",
            "n_candidates: 20\n",
            "n_resources: 1752\n",
            "Fitting 5 folds for each of 20 candidates, totalling 100 fits\n",
            "----------\n",
            "iter: 4\n",
            "n_candidates: 10\n",
            "n_resources: 3504\n",
            "Fitting 5 folds for each of 10 candidates, totalling 50 fits\n",
            "----------\n",
            "iter: 5\n",
            "n_candidates: 5\n",
            "n_resources: 7008\n",
            "Fitting 5 folds for each of 5 candidates, totalling 25 fits\n",
            "----------\n",
            "iter: 6\n",
            "n_candidates: 3\n",
            "n_resources: 14016\n",
            "Fitting 5 folds for each of 3 candidates, totalling 15 fits\n",
            "----------\n",
            "iter: 7\n",
            "n_candidates: 2\n",
            "n_resources: 28032\n",
            "Fitting 5 folds for each of 2 candidates, totalling 10 fits\n",
            "Best Hyperparameters: {'C': 100, 'degree': 2, 'gamma': 'scale', 'kernel': 'rbf'}\n",
            "accuracy_score:  0.988\n"
          ]
        }
      ]
    },
    {
      "cell_type": "code",
      "source": [
        "#@title Making csv for label 4\n",
        "predicted_label_test = best_svm_classifier.predict(x_test_pca)\n",
        "\n",
        "predicted_df = pd.DataFrame({'label_4': predicted_label_test})\n",
        "\n",
        "# Save the DataFrame to a CSV file\n",
        "predicted_df.to_csv('/content/drive/MyDrive/ML/Results/predicted_L7_label4.csv', index=False)"
      ],
      "metadata": {
        "id": "oO4-qdJ2coZa"
      },
      "execution_count": 64,
      "outputs": []
    },
    {
      "cell_type": "markdown",
      "source": [
        "#Label 2\n"
      ],
      "metadata": {
        "id": "NyJZbxE1dU2N"
      }
    },
    {
      "cell_type": "code",
      "source": [
        "#@title svm classifier without pca\n",
        "from sklearn import svm\n",
        "\n",
        "# For classification with a linear kernel\n",
        "classifier4 = svm.SVC(kernel='rbf', C=1)\n",
        "\n",
        "# For regression with a linear kernel\n",
        "# classifier = svm.SVR(kernel='linear', C=1.0)\n",
        "\n",
        "# Train the model\n",
        "# classifier.fit(x_train_df, y_train_df)\n",
        "classifier4.fit(X, label_2)\n",
        "\n",
        "#predict for validation\n",
        "y_valid_pred = classifier4.predict(X_valid)\n",
        "\n",
        "#accuracy\n",
        "print(\"accuracy_score: \",metrics.accuracy_score(label_2_valid, y_valid_pred))"
      ],
      "metadata": {
        "colab": {
          "base_uri": "https://localhost:8080/",
          "height": 0
        },
        "id": "GqzXmQqmdZYF",
        "outputId": "c0f18e16-a694-47bf-e82a-e49b470a2c9b"
      },
      "execution_count": 74,
      "outputs": [
        {
          "output_type": "stream",
          "name": "stdout",
          "text": [
            "accuracy_score:  0.8804347826086957\n"
          ]
        }
      ]
    },
    {
      "cell_type": "code",
      "source": [
        "#@title svm classifier with pca\n",
        "from sklearn import svm\n",
        "\n",
        "# For classification with a linear kernel\n",
        "classifier2 = svm.SVC(kernel='linear', C=1)\n",
        "\n",
        "# For regression with a linear kernel\n",
        "# classifier = svm.SVR(kernel='linear', C=1.0)\n",
        "\n",
        "# Train the model\n",
        "# classifier.fit(x_train_df, y_train_df)\n",
        "classifier2.fit(x_train_pca, label_2)\n",
        "\n",
        "#predict for validation\n",
        "y_valid_pred = classifier2.predict(x_valid_pca)\n",
        "\n",
        "#accuracy\n",
        "print(\"accuracy_score: \",metrics.accuracy_score(label_2_valid, y_valid_pred))"
      ],
      "metadata": {
        "colab": {
          "base_uri": "https://localhost:8080/",
          "height": 0
        },
        "id": "HqkrXjjUdvjV",
        "outputId": "4398f61b-c5a7-460f-b5b6-1f2e77fa0545"
      },
      "execution_count": 71,
      "outputs": [
        {
          "output_type": "stream",
          "name": "stdout",
          "text": [
            "accuracy_score:  0.7853260869565217\n"
          ]
        }
      ]
    },
    {
      "cell_type": "code",
      "source": [
        "#@title Hyper parameter tuning\n",
        "from sklearn.svm import SVC\n",
        "from sklearn.metrics import classification_report\n",
        "from sklearn.model_selection import cross_val_score, StratifiedKFold\n",
        "from scipy.stats import uniform\n",
        "from sklearn.experimental import enable_halving_search_cv\n",
        "from sklearn.model_selection import GridSearchCV, RandomizedSearchCV,HalvingGridSearchCV\n",
        "\n",
        "# Define the hyperparameter grid\n",
        "param_grid = {\n",
        "    'C': [0.1,1,10,20,100],\n",
        "    'kernel': ['linear', 'rbf', 'poly', 'sigmoid'],  # Experiment with different kernels\n",
        "    'gamma':['scale', 'auto'],\n",
        "    'degree': [1,2,3,4]\n",
        "\n",
        "}\n",
        "\n",
        "# Create an SVM classifier\n",
        "svm_classifier2 = SVC(class_weight='balanced')\n",
        "\n",
        "# Perform grid search with cross-validation\n",
        "grid_search = HalvingGridSearchCV(svm_classifier2, param_grid, scoring='accuracy', cv=5,n_jobs=-1, factor=2, verbose=1)\n",
        "grid_search.fit(x_train_pca, label_2)\n",
        "\n",
        "# Get the best model and hyperparameters\n",
        "best_svm_classifier = grid_search.best_estimator_\n",
        "best_params = grid_search.best_params_\n",
        "\n",
        "# Make predictions on the validation set\n",
        "y_pred = best_svm_classifier.predict(x_valid_pca)\n",
        "\n",
        "# Evaluate the model\n",
        "print(\"Best Hyperparameters:\", best_params)\n",
        "print(\"accuracy_score: \",metrics.accuracy_score(label_2_valid, y_pred))"
      ],
      "metadata": {
        "colab": {
          "base_uri": "https://localhost:8080/",
          "height": 0
        },
        "id": "pR9M4N7Bd4Hv",
        "outputId": "b625de79-d4c8-4f6e-c8c5-54a14db08eba"
      },
      "execution_count": 72,
      "outputs": [
        {
          "output_type": "stream",
          "name": "stdout",
          "text": [
            "n_iterations: 8\n",
            "n_required_iterations: 8\n",
            "n_possible_iterations: 8\n",
            "min_resources_: 219\n",
            "max_resources_: 28040\n",
            "aggressive_elimination: False\n",
            "factor: 2\n",
            "----------\n",
            "iter: 0\n",
            "n_candidates: 160\n",
            "n_resources: 219\n",
            "Fitting 5 folds for each of 160 candidates, totalling 800 fits\n",
            "----------\n",
            "iter: 1\n",
            "n_candidates: 80\n",
            "n_resources: 438\n",
            "Fitting 5 folds for each of 80 candidates, totalling 400 fits\n",
            "----------\n",
            "iter: 2\n",
            "n_candidates: 40\n",
            "n_resources: 876\n",
            "Fitting 5 folds for each of 40 candidates, totalling 200 fits\n",
            "----------\n",
            "iter: 3\n",
            "n_candidates: 20\n",
            "n_resources: 1752\n",
            "Fitting 5 folds for each of 20 candidates, totalling 100 fits\n",
            "----------\n",
            "iter: 4\n",
            "n_candidates: 10\n",
            "n_resources: 3504\n",
            "Fitting 5 folds for each of 10 candidates, totalling 50 fits\n",
            "----------\n",
            "iter: 5\n",
            "n_candidates: 5\n",
            "n_resources: 7008\n",
            "Fitting 5 folds for each of 5 candidates, totalling 25 fits\n",
            "----------\n",
            "iter: 6\n",
            "n_candidates: 3\n",
            "n_resources: 14016\n",
            "Fitting 5 folds for each of 3 candidates, totalling 15 fits\n",
            "----------\n",
            "iter: 7\n",
            "n_candidates: 2\n",
            "n_resources: 28032\n",
            "Fitting 5 folds for each of 2 candidates, totalling 10 fits\n",
            "Best Hyperparameters: {'C': 20, 'degree': 1, 'gamma': 'scale', 'kernel': 'poly'}\n",
            "accuracy_score:  0.78125\n"
          ]
        }
      ]
    },
    {
      "cell_type": "code",
      "source": [
        "#@title svm classifier with best score parameters\n",
        "from sklearn import svm\n",
        "clas_l2 = svm.SVC(kernel='poly', C=20, gamma='scale', degree=1)\n",
        "\n",
        "clas_l2.fit(X, label_2)\n",
        "\n",
        "#predict for validation\n",
        "y_valid_2 = clas_l2.predict(X_valid)\n",
        "\n",
        "#accuracy\n",
        "print(\"accuracy_score: \",metrics.accuracy_score(label_2_valid, y_valid_2))\n",
        "\n",
        "#predict\n",
        "# y_test_pred = classifier.predict(x_test_df)\n",
        "#y_test_predict_after_pca = classifier.predict(x_test_df_pca)"
      ],
      "metadata": {
        "colab": {
          "base_uri": "https://localhost:8080/",
          "height": 0
        },
        "id": "hH47pX65tDyF",
        "outputId": "7d84ecfe-0b97-411a-f7dd-655ee48c12dd"
      },
      "execution_count": 93,
      "outputs": [
        {
          "output_type": "stream",
          "name": "stdout",
          "text": [
            "accuracy_score:  0.8614130434782609\n"
          ]
        }
      ]
    },
    {
      "cell_type": "code",
      "source": [
        "#@title making csv for label 2\n",
        "lab_2_val = clas_l2.predict(X_test)\n",
        "\n",
        "pred_df_2 = pd.DataFrame({'label_2': lab_2_val})\n",
        "\n",
        "# Save the DataFrame to a CSV file\n",
        "pred_df_2.to_csv('/content/drive/MyDrive/ML/Results/predicted_L7_label2final.csv', index=False)"
      ],
      "metadata": {
        "id": "SLVs0pupwzUE"
      },
      "execution_count": 94,
      "outputs": []
    },
    {
      "cell_type": "code",
      "source": [
        "# @title SVM hyperparameter tuning\n",
        "from sklearn.model_selection import GridSearchCV\n",
        "from sklearn.svm import SVC\n",
        "\n",
        "# Define the hyperparameter grid\n",
        "param_grid = {\n",
        "    'C': [1,10,20],\n",
        "    'kernel': ['linear', 'poly', 'rbf', 'sigmoid'],\n",
        "    'degree': [2, 3, 4],  # For polynomial kernel\n",
        "    'gamma': ['scale', 'auto'] + [0.1, 1, 10],  # For rbf and sigmoid kernels\n",
        "    'tol': [1e-4, 1e-3, 1e-2],\n",
        "    'class_weight': [None, 'balanced']\n",
        "}\n",
        "\n",
        "# Create the SVM classifier\n",
        "svm = SVC()\n",
        "\n",
        "# Perform grid search with cross-validation\n",
        "grid_search = GridSearchCV(svm, param_grid, cv=5, scoring='accuracy', n_jobs=-1, verbose=3)\n",
        "grid_search.fit(x_train_pca, label_3)\n",
        "\n",
        "# Get the best hyperparameters\n",
        "best_params = grid_search.best_params_\n",
        "print(\"best parameters:\", best_params)\n"
      ],
      "metadata": {
        "id": "8BZ1v0n1iHTW"
      },
      "execution_count": null,
      "outputs": []
    },
    {
      "cell_type": "markdown",
      "source": [
        "#Combining CSV\n"
      ],
      "metadata": {
        "id": "6OFKeD3pyS3Y"
      }
    },
    {
      "cell_type": "code",
      "source": [
        "# df1 = pd.read_csv('/content/drive/MyDrive/ML/Results/predicted_L7_label1.csv')\n",
        "# df2 = pd.read_csv('/content/drive/MyDrive/ML/Results/predicted_L7_label2.csv')\n",
        "# df3 = pd.read_csv('/content/drive/MyDrive/ML/Results/predicted_L7_label3.csv')\n",
        "# df4 = pd.read_csv('/content/drive/MyDrive/ML/Results/predicted_L7_label4.csv')\n",
        "\n",
        "# combined_df = pd.concat([df1, df2, df3, df4], ignore_index=True)\n",
        "# combined_df.to_csv('/content/drive/MyDrive/ML/Results/Layer7_Final.csv', index=True)\n",
        "\n",
        "# Read the CSV files into separate DataFrames\n",
        "# df1 = pd.read_csv('/content/drive/MyDrive/ML/Results/predicted_L7_label1.csv', header=None, names=['label_1'])\n",
        "# df2 = pd.read_csv('/content/drive/MyDrive/ML/Results/predicted_L7_label2.csv', header=None, names=['label_2'])\n",
        "# df3 = pd.read_csv('/content/drive/MyDrive/ML/Results/predicted_L7_label3.csv', header=None, names=['label_3'])\n",
        "# df4 = pd.read_csv('/content/drive/MyDrive/ML/Results/predicted_L7_label4.csv', header=None, names=['label_4'])\n",
        "\n",
        "# # Combine the DataFrames into one DataFrame using concat\n",
        "# combined_df = pd.concat([df1, df2, df3, df4], axis=1, ignore_index=True)\n",
        "\n",
        "# # Add an index column\n",
        "# combined_df['Index'] = combined_df.index\n",
        "\n",
        "# # Save the combined DataFrame to a new CSV file\n",
        "# combined_df.to_csv('/content/drive/MyDrive/ML/Results/Layer7_Final2.csv', index=False)\n",
        "\n",
        "\n",
        "# import pandas as pd\n",
        "\n",
        "# Read the CSV files into separate DataFrames\n",
        "df1 = pd.read_csv('/content/drive/MyDrive/ML/Results/predicted_L7_label1.csv')\n",
        "df2 = pd.read_csv('/content/drive/MyDrive/ML/Results/predicted_L7_label2.csv')\n",
        "df3 = pd.read_csv('/content/drive/MyDrive/ML/Results/predicted_L7_label3.csv')\n",
        "df4 = pd.read_csv('/content/drive/MyDrive/ML/Results/predicted_L7_label4.csv')\n",
        "\n",
        "\n",
        "# Combine the DataFrames into one DataFrame with the index as the first column\n",
        "combined_df = pd.concat([df1, df2, df3, df4], axis=1, ignore_index=False)\n",
        "\n",
        "# Add an index column and move it to the first position\n",
        "combined_df.insert(0, 'ID', range(1,len(combined_df)+1))\n",
        "\n",
        "# Save the combined DataFrame to a new CSV file\n",
        "combined_df.to_csv('/content/drive/MyDrive/ML/Results/Layer7_Final.csv', index=False)\n"
      ],
      "metadata": {
        "id": "RfPQ0uflyXk7"
      },
      "execution_count": 86,
      "outputs": []
    }
  ]
}