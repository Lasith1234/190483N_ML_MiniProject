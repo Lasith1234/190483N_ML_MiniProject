{
  "nbformat": 4,
  "nbformat_minor": 0,
  "metadata": {
    "colab": {
      "provenance": []
    },
    "kernelspec": {
      "name": "python3",
      "display_name": "Python 3"
    },
    "language_info": {
      "name": "python"
    }
  },
  "cells": [
    {
      "cell_type": "markdown",
      "source": [
        "\n",
        "Importing all the Libraries that are needed"
      ],
      "metadata": {
        "id": "QipYdLkZSOkV"
      }
    },
    {
      "cell_type": "code",
      "execution_count": 2,
      "metadata": {
        "id": "q1YYN7i0Ifz1"
      },
      "outputs": [],
      "source": [
        "import pandas as pd\n",
        "import numpy as np\n",
        "import matplotlib.pyplot as plt\n",
        "from pandas import Series\n",
        "\n",
        "from sklearn.utils import class_weight\n",
        "from sklearn import svm\n",
        "from sklearn import metrics\n",
        "from sklearn.metrics import f1_score\n",
        "from sklearn.metrics import confusion_matrix\n",
        "from sklearn.neighbors import KNeighborsClassifier\n",
        "from sklearn.svm import SVC\n",
        "from sklearn.feature_selection import SelectKBest, f_classif, chi2\n",
        "import numpy as np"
      ]
    },
    {
      "cell_type": "code",
      "source": [
        "#Reading all datasets available\n",
        "\n",
        "train_set = pd.read_csv('/content/drive/MyDrive/ML/Layer12/train.csv')\n",
        "test_set = pd.read_csv('/content/drive/MyDrive/ML/Layer12/test.csv')\n",
        "valid_set = pd.read_csv('/content/drive/MyDrive/ML/Layer12/valid.csv')"
      ],
      "metadata": {
        "id": "0Hr2qokKJw9K"
      },
      "execution_count": 7,
      "outputs": []
    },
    {
      "cell_type": "code",
      "source": [
        "train_set.head()"
      ],
      "metadata": {
        "colab": {
          "base_uri": "https://localhost:8080/",
          "height": 255
        },
        "id": "qM8plp_tMqsC",
        "outputId": "6ac3465e-cf51-4783-98f1-58893bc22103"
      },
      "execution_count": 6,
      "outputs": [
        {
          "output_type": "execute_result",
          "data": {
            "text/plain": [
              "   feature_1  feature_2  feature_3  feature_4  feature_5  feature_6  \\\n",
              "0   0.031138   0.079892   0.157382  -0.014636  -0.051778  -0.021332   \n",
              "1   0.113040   0.175731   0.217741  -0.196254  -0.010129  -0.030586   \n",
              "2   0.048570   0.091281   0.160776  -0.150937   0.020115   0.044117   \n",
              "3   0.039212   0.118388   0.173831  -0.096659  -0.008702   0.061298   \n",
              "4   0.056019   0.170639   0.157917  -0.228605  -0.065965  -0.088732   \n",
              "\n",
              "   feature_7  feature_8  feature_9  feature_10  ...  feature_763  feature_764  \\\n",
              "0  -0.073593  -0.005386  -0.212557    0.099683  ...    -0.085248    -0.096007   \n",
              "1   0.067114  -0.072412  -0.239192    0.104741  ...    -0.090283    -0.053885   \n",
              "2  -0.050092  -0.045661  -0.155332    0.117206  ...    -0.021524    -0.008411   \n",
              "3   0.008974  -0.003277  -0.065046    0.095480  ...    -0.071936    -0.023120   \n",
              "4  -0.082243  -0.080568  -0.341500    0.142430  ...    -0.155621    -0.079447   \n",
              "\n",
              "   feature_765  feature_766  feature_767  feature_768  label_1  label_2  \\\n",
              "0    -0.000766     0.021399    -0.041432     0.094806       45      NaN   \n",
              "1    -0.010967     0.062209    -0.122958     0.192949       45      NaN   \n",
              "2    -0.006248     0.031468    -0.056915     0.154731       45      NaN   \n",
              "3    -0.007812     0.057600    -0.121892     0.072796       45      NaN   \n",
              "4     0.015316     0.127726    -0.151966     0.169634       45      NaN   \n",
              "\n",
              "   label_3  label_4  \n",
              "0        1        6  \n",
              "1        1        6  \n",
              "2        1        6  \n",
              "3        1        6  \n",
              "4        1        6  \n",
              "\n",
              "[5 rows x 772 columns]"
            ],
            "text/html": [
              "\n",
              "  <div id=\"df-d6ae0be4-5fd5-40f8-9854-6b5c8a1145bb\" class=\"colab-df-container\">\n",
              "    <div>\n",
              "<style scoped>\n",
              "    .dataframe tbody tr th:only-of-type {\n",
              "        vertical-align: middle;\n",
              "    }\n",
              "\n",
              "    .dataframe tbody tr th {\n",
              "        vertical-align: top;\n",
              "    }\n",
              "\n",
              "    .dataframe thead th {\n",
              "        text-align: right;\n",
              "    }\n",
              "</style>\n",
              "<table border=\"1\" class=\"dataframe\">\n",
              "  <thead>\n",
              "    <tr style=\"text-align: right;\">\n",
              "      <th></th>\n",
              "      <th>feature_1</th>\n",
              "      <th>feature_2</th>\n",
              "      <th>feature_3</th>\n",
              "      <th>feature_4</th>\n",
              "      <th>feature_5</th>\n",
              "      <th>feature_6</th>\n",
              "      <th>feature_7</th>\n",
              "      <th>feature_8</th>\n",
              "      <th>feature_9</th>\n",
              "      <th>feature_10</th>\n",
              "      <th>...</th>\n",
              "      <th>feature_763</th>\n",
              "      <th>feature_764</th>\n",
              "      <th>feature_765</th>\n",
              "      <th>feature_766</th>\n",
              "      <th>feature_767</th>\n",
              "      <th>feature_768</th>\n",
              "      <th>label_1</th>\n",
              "      <th>label_2</th>\n",
              "      <th>label_3</th>\n",
              "      <th>label_4</th>\n",
              "    </tr>\n",
              "  </thead>\n",
              "  <tbody>\n",
              "    <tr>\n",
              "      <th>0</th>\n",
              "      <td>0.031138</td>\n",
              "      <td>0.079892</td>\n",
              "      <td>0.157382</td>\n",
              "      <td>-0.014636</td>\n",
              "      <td>-0.051778</td>\n",
              "      <td>-0.021332</td>\n",
              "      <td>-0.073593</td>\n",
              "      <td>-0.005386</td>\n",
              "      <td>-0.212557</td>\n",
              "      <td>0.099683</td>\n",
              "      <td>...</td>\n",
              "      <td>-0.085248</td>\n",
              "      <td>-0.096007</td>\n",
              "      <td>-0.000766</td>\n",
              "      <td>0.021399</td>\n",
              "      <td>-0.041432</td>\n",
              "      <td>0.094806</td>\n",
              "      <td>45</td>\n",
              "      <td>NaN</td>\n",
              "      <td>1</td>\n",
              "      <td>6</td>\n",
              "    </tr>\n",
              "    <tr>\n",
              "      <th>1</th>\n",
              "      <td>0.113040</td>\n",
              "      <td>0.175731</td>\n",
              "      <td>0.217741</td>\n",
              "      <td>-0.196254</td>\n",
              "      <td>-0.010129</td>\n",
              "      <td>-0.030586</td>\n",
              "      <td>0.067114</td>\n",
              "      <td>-0.072412</td>\n",
              "      <td>-0.239192</td>\n",
              "      <td>0.104741</td>\n",
              "      <td>...</td>\n",
              "      <td>-0.090283</td>\n",
              "      <td>-0.053885</td>\n",
              "      <td>-0.010967</td>\n",
              "      <td>0.062209</td>\n",
              "      <td>-0.122958</td>\n",
              "      <td>0.192949</td>\n",
              "      <td>45</td>\n",
              "      <td>NaN</td>\n",
              "      <td>1</td>\n",
              "      <td>6</td>\n",
              "    </tr>\n",
              "    <tr>\n",
              "      <th>2</th>\n",
              "      <td>0.048570</td>\n",
              "      <td>0.091281</td>\n",
              "      <td>0.160776</td>\n",
              "      <td>-0.150937</td>\n",
              "      <td>0.020115</td>\n",
              "      <td>0.044117</td>\n",
              "      <td>-0.050092</td>\n",
              "      <td>-0.045661</td>\n",
              "      <td>-0.155332</td>\n",
              "      <td>0.117206</td>\n",
              "      <td>...</td>\n",
              "      <td>-0.021524</td>\n",
              "      <td>-0.008411</td>\n",
              "      <td>-0.006248</td>\n",
              "      <td>0.031468</td>\n",
              "      <td>-0.056915</td>\n",
              "      <td>0.154731</td>\n",
              "      <td>45</td>\n",
              "      <td>NaN</td>\n",
              "      <td>1</td>\n",
              "      <td>6</td>\n",
              "    </tr>\n",
              "    <tr>\n",
              "      <th>3</th>\n",
              "      <td>0.039212</td>\n",
              "      <td>0.118388</td>\n",
              "      <td>0.173831</td>\n",
              "      <td>-0.096659</td>\n",
              "      <td>-0.008702</td>\n",
              "      <td>0.061298</td>\n",
              "      <td>0.008974</td>\n",
              "      <td>-0.003277</td>\n",
              "      <td>-0.065046</td>\n",
              "      <td>0.095480</td>\n",
              "      <td>...</td>\n",
              "      <td>-0.071936</td>\n",
              "      <td>-0.023120</td>\n",
              "      <td>-0.007812</td>\n",
              "      <td>0.057600</td>\n",
              "      <td>-0.121892</td>\n",
              "      <td>0.072796</td>\n",
              "      <td>45</td>\n",
              "      <td>NaN</td>\n",
              "      <td>1</td>\n",
              "      <td>6</td>\n",
              "    </tr>\n",
              "    <tr>\n",
              "      <th>4</th>\n",
              "      <td>0.056019</td>\n",
              "      <td>0.170639</td>\n",
              "      <td>0.157917</td>\n",
              "      <td>-0.228605</td>\n",
              "      <td>-0.065965</td>\n",
              "      <td>-0.088732</td>\n",
              "      <td>-0.082243</td>\n",
              "      <td>-0.080568</td>\n",
              "      <td>-0.341500</td>\n",
              "      <td>0.142430</td>\n",
              "      <td>...</td>\n",
              "      <td>-0.155621</td>\n",
              "      <td>-0.079447</td>\n",
              "      <td>0.015316</td>\n",
              "      <td>0.127726</td>\n",
              "      <td>-0.151966</td>\n",
              "      <td>0.169634</td>\n",
              "      <td>45</td>\n",
              "      <td>NaN</td>\n",
              "      <td>1</td>\n",
              "      <td>6</td>\n",
              "    </tr>\n",
              "  </tbody>\n",
              "</table>\n",
              "<p>5 rows × 772 columns</p>\n",
              "</div>\n",
              "    <div class=\"colab-df-buttons\">\n",
              "\n",
              "  <div class=\"colab-df-container\">\n",
              "    <button class=\"colab-df-convert\" onclick=\"convertToInteractive('df-d6ae0be4-5fd5-40f8-9854-6b5c8a1145bb')\"\n",
              "            title=\"Convert this dataframe to an interactive table.\"\n",
              "            style=\"display:none;\">\n",
              "\n",
              "  <svg xmlns=\"http://www.w3.org/2000/svg\" height=\"24px\" viewBox=\"0 -960 960 960\">\n",
              "    <path d=\"M120-120v-720h720v720H120Zm60-500h600v-160H180v160Zm220 220h160v-160H400v160Zm0 220h160v-160H400v160ZM180-400h160v-160H180v160Zm440 0h160v-160H620v160ZM180-180h160v-160H180v160Zm440 0h160v-160H620v160Z\"/>\n",
              "  </svg>\n",
              "    </button>\n",
              "\n",
              "  <style>\n",
              "    .colab-df-container {\n",
              "      display:flex;\n",
              "      gap: 12px;\n",
              "    }\n",
              "\n",
              "    .colab-df-convert {\n",
              "      background-color: #E8F0FE;\n",
              "      border: none;\n",
              "      border-radius: 50%;\n",
              "      cursor: pointer;\n",
              "      display: none;\n",
              "      fill: #1967D2;\n",
              "      height: 32px;\n",
              "      padding: 0 0 0 0;\n",
              "      width: 32px;\n",
              "    }\n",
              "\n",
              "    .colab-df-convert:hover {\n",
              "      background-color: #E2EBFA;\n",
              "      box-shadow: 0px 1px 2px rgba(60, 64, 67, 0.3), 0px 1px 3px 1px rgba(60, 64, 67, 0.15);\n",
              "      fill: #174EA6;\n",
              "    }\n",
              "\n",
              "    .colab-df-buttons div {\n",
              "      margin-bottom: 4px;\n",
              "    }\n",
              "\n",
              "    [theme=dark] .colab-df-convert {\n",
              "      background-color: #3B4455;\n",
              "      fill: #D2E3FC;\n",
              "    }\n",
              "\n",
              "    [theme=dark] .colab-df-convert:hover {\n",
              "      background-color: #434B5C;\n",
              "      box-shadow: 0px 1px 3px 1px rgba(0, 0, 0, 0.15);\n",
              "      filter: drop-shadow(0px 1px 2px rgba(0, 0, 0, 0.3));\n",
              "      fill: #FFFFFF;\n",
              "    }\n",
              "  </style>\n",
              "\n",
              "    <script>\n",
              "      const buttonEl =\n",
              "        document.querySelector('#df-d6ae0be4-5fd5-40f8-9854-6b5c8a1145bb button.colab-df-convert');\n",
              "      buttonEl.style.display =\n",
              "        google.colab.kernel.accessAllowed ? 'block' : 'none';\n",
              "\n",
              "      async function convertToInteractive(key) {\n",
              "        const element = document.querySelector('#df-d6ae0be4-5fd5-40f8-9854-6b5c8a1145bb');\n",
              "        const dataTable =\n",
              "          await google.colab.kernel.invokeFunction('convertToInteractive',\n",
              "                                                    [key], {});\n",
              "        if (!dataTable) return;\n",
              "\n",
              "        const docLinkHtml = 'Like what you see? Visit the ' +\n",
              "          '<a target=\"_blank\" href=https://colab.research.google.com/notebooks/data_table.ipynb>data table notebook</a>'\n",
              "          + ' to learn more about interactive tables.';\n",
              "        element.innerHTML = '';\n",
              "        dataTable['output_type'] = 'display_data';\n",
              "        await google.colab.output.renderOutput(dataTable, element);\n",
              "        const docLink = document.createElement('div');\n",
              "        docLink.innerHTML = docLinkHtml;\n",
              "        element.appendChild(docLink);\n",
              "      }\n",
              "    </script>\n",
              "  </div>\n",
              "\n",
              "\n",
              "<div id=\"df-17812ee8-19ae-4281-928c-2182d07f3df8\">\n",
              "  <button class=\"colab-df-quickchart\" onclick=\"quickchart('df-17812ee8-19ae-4281-928c-2182d07f3df8')\"\n",
              "            title=\"Suggest charts.\"\n",
              "            style=\"display:none;\">\n",
              "\n",
              "<svg xmlns=\"http://www.w3.org/2000/svg\" height=\"24px\"viewBox=\"0 0 24 24\"\n",
              "     width=\"24px\">\n",
              "    <g>\n",
              "        <path d=\"M19 3H5c-1.1 0-2 .9-2 2v14c0 1.1.9 2 2 2h14c1.1 0 2-.9 2-2V5c0-1.1-.9-2-2-2zM9 17H7v-7h2v7zm4 0h-2V7h2v10zm4 0h-2v-4h2v4z\"/>\n",
              "    </g>\n",
              "</svg>\n",
              "  </button>\n",
              "\n",
              "<style>\n",
              "  .colab-df-quickchart {\n",
              "      --bg-color: #E8F0FE;\n",
              "      --fill-color: #1967D2;\n",
              "      --hover-bg-color: #E2EBFA;\n",
              "      --hover-fill-color: #174EA6;\n",
              "      --disabled-fill-color: #AAA;\n",
              "      --disabled-bg-color: #DDD;\n",
              "  }\n",
              "\n",
              "  [theme=dark] .colab-df-quickchart {\n",
              "      --bg-color: #3B4455;\n",
              "      --fill-color: #D2E3FC;\n",
              "      --hover-bg-color: #434B5C;\n",
              "      --hover-fill-color: #FFFFFF;\n",
              "      --disabled-bg-color: #3B4455;\n",
              "      --disabled-fill-color: #666;\n",
              "  }\n",
              "\n",
              "  .colab-df-quickchart {\n",
              "    background-color: var(--bg-color);\n",
              "    border: none;\n",
              "    border-radius: 50%;\n",
              "    cursor: pointer;\n",
              "    display: none;\n",
              "    fill: var(--fill-color);\n",
              "    height: 32px;\n",
              "    padding: 0;\n",
              "    width: 32px;\n",
              "  }\n",
              "\n",
              "  .colab-df-quickchart:hover {\n",
              "    background-color: var(--hover-bg-color);\n",
              "    box-shadow: 0 1px 2px rgba(60, 64, 67, 0.3), 0 1px 3px 1px rgba(60, 64, 67, 0.15);\n",
              "    fill: var(--button-hover-fill-color);\n",
              "  }\n",
              "\n",
              "  .colab-df-quickchart-complete:disabled,\n",
              "  .colab-df-quickchart-complete:disabled:hover {\n",
              "    background-color: var(--disabled-bg-color);\n",
              "    fill: var(--disabled-fill-color);\n",
              "    box-shadow: none;\n",
              "  }\n",
              "\n",
              "  .colab-df-spinner {\n",
              "    border: 2px solid var(--fill-color);\n",
              "    border-color: transparent;\n",
              "    border-bottom-color: var(--fill-color);\n",
              "    animation:\n",
              "      spin 1s steps(1) infinite;\n",
              "  }\n",
              "\n",
              "  @keyframes spin {\n",
              "    0% {\n",
              "      border-color: transparent;\n",
              "      border-bottom-color: var(--fill-color);\n",
              "      border-left-color: var(--fill-color);\n",
              "    }\n",
              "    20% {\n",
              "      border-color: transparent;\n",
              "      border-left-color: var(--fill-color);\n",
              "      border-top-color: var(--fill-color);\n",
              "    }\n",
              "    30% {\n",
              "      border-color: transparent;\n",
              "      border-left-color: var(--fill-color);\n",
              "      border-top-color: var(--fill-color);\n",
              "      border-right-color: var(--fill-color);\n",
              "    }\n",
              "    40% {\n",
              "      border-color: transparent;\n",
              "      border-right-color: var(--fill-color);\n",
              "      border-top-color: var(--fill-color);\n",
              "    }\n",
              "    60% {\n",
              "      border-color: transparent;\n",
              "      border-right-color: var(--fill-color);\n",
              "    }\n",
              "    80% {\n",
              "      border-color: transparent;\n",
              "      border-right-color: var(--fill-color);\n",
              "      border-bottom-color: var(--fill-color);\n",
              "    }\n",
              "    90% {\n",
              "      border-color: transparent;\n",
              "      border-bottom-color: var(--fill-color);\n",
              "    }\n",
              "  }\n",
              "</style>\n",
              "\n",
              "  <script>\n",
              "    async function quickchart(key) {\n",
              "      const quickchartButtonEl =\n",
              "        document.querySelector('#' + key + ' button');\n",
              "      quickchartButtonEl.disabled = true;  // To prevent multiple clicks.\n",
              "      quickchartButtonEl.classList.add('colab-df-spinner');\n",
              "      try {\n",
              "        const charts = await google.colab.kernel.invokeFunction(\n",
              "            'suggestCharts', [key], {});\n",
              "      } catch (error) {\n",
              "        console.error('Error during call to suggestCharts:', error);\n",
              "      }\n",
              "      quickchartButtonEl.classList.remove('colab-df-spinner');\n",
              "      quickchartButtonEl.classList.add('colab-df-quickchart-complete');\n",
              "    }\n",
              "    (() => {\n",
              "      let quickchartButtonEl =\n",
              "        document.querySelector('#df-17812ee8-19ae-4281-928c-2182d07f3df8 button');\n",
              "      quickchartButtonEl.style.display =\n",
              "        google.colab.kernel.accessAllowed ? 'block' : 'none';\n",
              "    })();\n",
              "  </script>\n",
              "</div>\n",
              "    </div>\n",
              "  </div>\n"
            ]
          },
          "metadata": {},
          "execution_count": 6
        }
      ]
    },
    {
      "cell_type": "code",
      "source": [
        "#Checking whether there are coloumns with missing values\n",
        "null_val_cols = train_set.columns[train_set.isnull().any()]\n",
        "\n",
        "for col in null_val_cols:\n",
        "    print(col)"
      ],
      "metadata": {
        "colab": {
          "base_uri": "https://localhost:8080/"
        },
        "id": "Z3cqCHffKEJY",
        "outputId": "fbd47f93-a955-4df3-ca57-e1cc921463a6"
      },
      "execution_count": 8,
      "outputs": [
        {
          "output_type": "stream",
          "name": "stdout",
          "text": [
            "label_2\n"
          ]
        }
      ]
    },
    {
      "cell_type": "code",
      "source": [
        "#Removing rows with unavailable values in label_2 in both train and valid data sets\n",
        "\n",
        "train_set = train_set.dropna(subset=['label_2'])\n",
        "valid_set = valid_set.dropna(subset=['label_2'])\n",
        "train_set.head()"
      ],
      "metadata": {
        "colab": {
          "base_uri": "https://localhost:8080/",
          "height": 255
        },
        "id": "oesR3KAkTJJB",
        "outputId": "e30ac6c3-d70e-4e0f-9af2-3ebad9e1f30f"
      },
      "execution_count": 10,
      "outputs": [
        {
          "output_type": "execute_result",
          "data": {
            "text/plain": [
              "     feature_1  feature_2  feature_3  feature_4  feature_5  feature_6  \\\n",
              "480   0.011657   0.038439   0.103671  -0.016977  -0.000953  -0.003522   \n",
              "481   0.164148   0.091572   0.228022  -0.096475  -0.041760   0.011285   \n",
              "482   0.038285   0.055738   0.124604  -0.041057  -0.022140   0.014445   \n",
              "483   0.179149   0.076565   0.324054  -0.159201  -0.071644  -0.071874   \n",
              "484   0.041122   0.054127   0.110883  -0.023344  -0.008510   0.003221   \n",
              "\n",
              "     feature_7  feature_8  feature_9  feature_10  ...  feature_763  \\\n",
              "480  -0.065092  -0.028373  -0.079483    0.038152  ...     0.010156   \n",
              "481  -0.053629  -0.052081  -0.203983    0.119327  ...    -0.105542   \n",
              "482  -0.050445  -0.038413  -0.069275    0.048514  ...    -0.008590   \n",
              "483  -0.043605  -0.079920  -0.287324    0.054799  ...    -0.124709   \n",
              "484  -0.023545  -0.001871  -0.077041    0.030782  ...    -0.004103   \n",
              "\n",
              "     feature_764  feature_765  feature_766  feature_767  feature_768  label_1  \\\n",
              "480     0.002009     0.019304     0.015793    -0.012956     0.038805        5   \n",
              "481    -0.097742     0.003595     0.043899     0.016852     0.190699        5   \n",
              "482    -0.020720    -0.016982     0.014780    -0.020130     0.045188        5   \n",
              "483    -0.052751    -0.006879     0.160734     0.011273     0.142608        5   \n",
              "484     0.000851    -0.019949     0.005263    -0.002535     0.052611        5   \n",
              "\n",
              "     label_2  label_3  label_4  \n",
              "480     25.0        1        6  \n",
              "481     25.0        1        6  \n",
              "482     25.0        1        6  \n",
              "483     25.0        1        6  \n",
              "484     25.0        1        6  \n",
              "\n",
              "[5 rows x 772 columns]"
            ],
            "text/html": [
              "\n",
              "  <div id=\"df-d046bdc0-d182-4cd4-ab8e-db329cc790c0\" class=\"colab-df-container\">\n",
              "    <div>\n",
              "<style scoped>\n",
              "    .dataframe tbody tr th:only-of-type {\n",
              "        vertical-align: middle;\n",
              "    }\n",
              "\n",
              "    .dataframe tbody tr th {\n",
              "        vertical-align: top;\n",
              "    }\n",
              "\n",
              "    .dataframe thead th {\n",
              "        text-align: right;\n",
              "    }\n",
              "</style>\n",
              "<table border=\"1\" class=\"dataframe\">\n",
              "  <thead>\n",
              "    <tr style=\"text-align: right;\">\n",
              "      <th></th>\n",
              "      <th>feature_1</th>\n",
              "      <th>feature_2</th>\n",
              "      <th>feature_3</th>\n",
              "      <th>feature_4</th>\n",
              "      <th>feature_5</th>\n",
              "      <th>feature_6</th>\n",
              "      <th>feature_7</th>\n",
              "      <th>feature_8</th>\n",
              "      <th>feature_9</th>\n",
              "      <th>feature_10</th>\n",
              "      <th>...</th>\n",
              "      <th>feature_763</th>\n",
              "      <th>feature_764</th>\n",
              "      <th>feature_765</th>\n",
              "      <th>feature_766</th>\n",
              "      <th>feature_767</th>\n",
              "      <th>feature_768</th>\n",
              "      <th>label_1</th>\n",
              "      <th>label_2</th>\n",
              "      <th>label_3</th>\n",
              "      <th>label_4</th>\n",
              "    </tr>\n",
              "  </thead>\n",
              "  <tbody>\n",
              "    <tr>\n",
              "      <th>480</th>\n",
              "      <td>0.011657</td>\n",
              "      <td>0.038439</td>\n",
              "      <td>0.103671</td>\n",
              "      <td>-0.016977</td>\n",
              "      <td>-0.000953</td>\n",
              "      <td>-0.003522</td>\n",
              "      <td>-0.065092</td>\n",
              "      <td>-0.028373</td>\n",
              "      <td>-0.079483</td>\n",
              "      <td>0.038152</td>\n",
              "      <td>...</td>\n",
              "      <td>0.010156</td>\n",
              "      <td>0.002009</td>\n",
              "      <td>0.019304</td>\n",
              "      <td>0.015793</td>\n",
              "      <td>-0.012956</td>\n",
              "      <td>0.038805</td>\n",
              "      <td>5</td>\n",
              "      <td>25.0</td>\n",
              "      <td>1</td>\n",
              "      <td>6</td>\n",
              "    </tr>\n",
              "    <tr>\n",
              "      <th>481</th>\n",
              "      <td>0.164148</td>\n",
              "      <td>0.091572</td>\n",
              "      <td>0.228022</td>\n",
              "      <td>-0.096475</td>\n",
              "      <td>-0.041760</td>\n",
              "      <td>0.011285</td>\n",
              "      <td>-0.053629</td>\n",
              "      <td>-0.052081</td>\n",
              "      <td>-0.203983</td>\n",
              "      <td>0.119327</td>\n",
              "      <td>...</td>\n",
              "      <td>-0.105542</td>\n",
              "      <td>-0.097742</td>\n",
              "      <td>0.003595</td>\n",
              "      <td>0.043899</td>\n",
              "      <td>0.016852</td>\n",
              "      <td>0.190699</td>\n",
              "      <td>5</td>\n",
              "      <td>25.0</td>\n",
              "      <td>1</td>\n",
              "      <td>6</td>\n",
              "    </tr>\n",
              "    <tr>\n",
              "      <th>482</th>\n",
              "      <td>0.038285</td>\n",
              "      <td>0.055738</td>\n",
              "      <td>0.124604</td>\n",
              "      <td>-0.041057</td>\n",
              "      <td>-0.022140</td>\n",
              "      <td>0.014445</td>\n",
              "      <td>-0.050445</td>\n",
              "      <td>-0.038413</td>\n",
              "      <td>-0.069275</td>\n",
              "      <td>0.048514</td>\n",
              "      <td>...</td>\n",
              "      <td>-0.008590</td>\n",
              "      <td>-0.020720</td>\n",
              "      <td>-0.016982</td>\n",
              "      <td>0.014780</td>\n",
              "      <td>-0.020130</td>\n",
              "      <td>0.045188</td>\n",
              "      <td>5</td>\n",
              "      <td>25.0</td>\n",
              "      <td>1</td>\n",
              "      <td>6</td>\n",
              "    </tr>\n",
              "    <tr>\n",
              "      <th>483</th>\n",
              "      <td>0.179149</td>\n",
              "      <td>0.076565</td>\n",
              "      <td>0.324054</td>\n",
              "      <td>-0.159201</td>\n",
              "      <td>-0.071644</td>\n",
              "      <td>-0.071874</td>\n",
              "      <td>-0.043605</td>\n",
              "      <td>-0.079920</td>\n",
              "      <td>-0.287324</td>\n",
              "      <td>0.054799</td>\n",
              "      <td>...</td>\n",
              "      <td>-0.124709</td>\n",
              "      <td>-0.052751</td>\n",
              "      <td>-0.006879</td>\n",
              "      <td>0.160734</td>\n",
              "      <td>0.011273</td>\n",
              "      <td>0.142608</td>\n",
              "      <td>5</td>\n",
              "      <td>25.0</td>\n",
              "      <td>1</td>\n",
              "      <td>6</td>\n",
              "    </tr>\n",
              "    <tr>\n",
              "      <th>484</th>\n",
              "      <td>0.041122</td>\n",
              "      <td>0.054127</td>\n",
              "      <td>0.110883</td>\n",
              "      <td>-0.023344</td>\n",
              "      <td>-0.008510</td>\n",
              "      <td>0.003221</td>\n",
              "      <td>-0.023545</td>\n",
              "      <td>-0.001871</td>\n",
              "      <td>-0.077041</td>\n",
              "      <td>0.030782</td>\n",
              "      <td>...</td>\n",
              "      <td>-0.004103</td>\n",
              "      <td>0.000851</td>\n",
              "      <td>-0.019949</td>\n",
              "      <td>0.005263</td>\n",
              "      <td>-0.002535</td>\n",
              "      <td>0.052611</td>\n",
              "      <td>5</td>\n",
              "      <td>25.0</td>\n",
              "      <td>1</td>\n",
              "      <td>6</td>\n",
              "    </tr>\n",
              "  </tbody>\n",
              "</table>\n",
              "<p>5 rows × 772 columns</p>\n",
              "</div>\n",
              "    <div class=\"colab-df-buttons\">\n",
              "\n",
              "  <div class=\"colab-df-container\">\n",
              "    <button class=\"colab-df-convert\" onclick=\"convertToInteractive('df-d046bdc0-d182-4cd4-ab8e-db329cc790c0')\"\n",
              "            title=\"Convert this dataframe to an interactive table.\"\n",
              "            style=\"display:none;\">\n",
              "\n",
              "  <svg xmlns=\"http://www.w3.org/2000/svg\" height=\"24px\" viewBox=\"0 -960 960 960\">\n",
              "    <path d=\"M120-120v-720h720v720H120Zm60-500h600v-160H180v160Zm220 220h160v-160H400v160Zm0 220h160v-160H400v160ZM180-400h160v-160H180v160Zm440 0h160v-160H620v160ZM180-180h160v-160H180v160Zm440 0h160v-160H620v160Z\"/>\n",
              "  </svg>\n",
              "    </button>\n",
              "\n",
              "  <style>\n",
              "    .colab-df-container {\n",
              "      display:flex;\n",
              "      gap: 12px;\n",
              "    }\n",
              "\n",
              "    .colab-df-convert {\n",
              "      background-color: #E8F0FE;\n",
              "      border: none;\n",
              "      border-radius: 50%;\n",
              "      cursor: pointer;\n",
              "      display: none;\n",
              "      fill: #1967D2;\n",
              "      height: 32px;\n",
              "      padding: 0 0 0 0;\n",
              "      width: 32px;\n",
              "    }\n",
              "\n",
              "    .colab-df-convert:hover {\n",
              "      background-color: #E2EBFA;\n",
              "      box-shadow: 0px 1px 2px rgba(60, 64, 67, 0.3), 0px 1px 3px 1px rgba(60, 64, 67, 0.15);\n",
              "      fill: #174EA6;\n",
              "    }\n",
              "\n",
              "    .colab-df-buttons div {\n",
              "      margin-bottom: 4px;\n",
              "    }\n",
              "\n",
              "    [theme=dark] .colab-df-convert {\n",
              "      background-color: #3B4455;\n",
              "      fill: #D2E3FC;\n",
              "    }\n",
              "\n",
              "    [theme=dark] .colab-df-convert:hover {\n",
              "      background-color: #434B5C;\n",
              "      box-shadow: 0px 1px 3px 1px rgba(0, 0, 0, 0.15);\n",
              "      filter: drop-shadow(0px 1px 2px rgba(0, 0, 0, 0.3));\n",
              "      fill: #FFFFFF;\n",
              "    }\n",
              "  </style>\n",
              "\n",
              "    <script>\n",
              "      const buttonEl =\n",
              "        document.querySelector('#df-d046bdc0-d182-4cd4-ab8e-db329cc790c0 button.colab-df-convert');\n",
              "      buttonEl.style.display =\n",
              "        google.colab.kernel.accessAllowed ? 'block' : 'none';\n",
              "\n",
              "      async function convertToInteractive(key) {\n",
              "        const element = document.querySelector('#df-d046bdc0-d182-4cd4-ab8e-db329cc790c0');\n",
              "        const dataTable =\n",
              "          await google.colab.kernel.invokeFunction('convertToInteractive',\n",
              "                                                    [key], {});\n",
              "        if (!dataTable) return;\n",
              "\n",
              "        const docLinkHtml = 'Like what you see? Visit the ' +\n",
              "          '<a target=\"_blank\" href=https://colab.research.google.com/notebooks/data_table.ipynb>data table notebook</a>'\n",
              "          + ' to learn more about interactive tables.';\n",
              "        element.innerHTML = '';\n",
              "        dataTable['output_type'] = 'display_data';\n",
              "        await google.colab.output.renderOutput(dataTable, element);\n",
              "        const docLink = document.createElement('div');\n",
              "        docLink.innerHTML = docLinkHtml;\n",
              "        element.appendChild(docLink);\n",
              "      }\n",
              "    </script>\n",
              "  </div>\n",
              "\n",
              "\n",
              "<div id=\"df-800df3af-e051-4fb4-af1d-3b857295a5e3\">\n",
              "  <button class=\"colab-df-quickchart\" onclick=\"quickchart('df-800df3af-e051-4fb4-af1d-3b857295a5e3')\"\n",
              "            title=\"Suggest charts.\"\n",
              "            style=\"display:none;\">\n",
              "\n",
              "<svg xmlns=\"http://www.w3.org/2000/svg\" height=\"24px\"viewBox=\"0 0 24 24\"\n",
              "     width=\"24px\">\n",
              "    <g>\n",
              "        <path d=\"M19 3H5c-1.1 0-2 .9-2 2v14c0 1.1.9 2 2 2h14c1.1 0 2-.9 2-2V5c0-1.1-.9-2-2-2zM9 17H7v-7h2v7zm4 0h-2V7h2v10zm4 0h-2v-4h2v4z\"/>\n",
              "    </g>\n",
              "</svg>\n",
              "  </button>\n",
              "\n",
              "<style>\n",
              "  .colab-df-quickchart {\n",
              "      --bg-color: #E8F0FE;\n",
              "      --fill-color: #1967D2;\n",
              "      --hover-bg-color: #E2EBFA;\n",
              "      --hover-fill-color: #174EA6;\n",
              "      --disabled-fill-color: #AAA;\n",
              "      --disabled-bg-color: #DDD;\n",
              "  }\n",
              "\n",
              "  [theme=dark] .colab-df-quickchart {\n",
              "      --bg-color: #3B4455;\n",
              "      --fill-color: #D2E3FC;\n",
              "      --hover-bg-color: #434B5C;\n",
              "      --hover-fill-color: #FFFFFF;\n",
              "      --disabled-bg-color: #3B4455;\n",
              "      --disabled-fill-color: #666;\n",
              "  }\n",
              "\n",
              "  .colab-df-quickchart {\n",
              "    background-color: var(--bg-color);\n",
              "    border: none;\n",
              "    border-radius: 50%;\n",
              "    cursor: pointer;\n",
              "    display: none;\n",
              "    fill: var(--fill-color);\n",
              "    height: 32px;\n",
              "    padding: 0;\n",
              "    width: 32px;\n",
              "  }\n",
              "\n",
              "  .colab-df-quickchart:hover {\n",
              "    background-color: var(--hover-bg-color);\n",
              "    box-shadow: 0 1px 2px rgba(60, 64, 67, 0.3), 0 1px 3px 1px rgba(60, 64, 67, 0.15);\n",
              "    fill: var(--button-hover-fill-color);\n",
              "  }\n",
              "\n",
              "  .colab-df-quickchart-complete:disabled,\n",
              "  .colab-df-quickchart-complete:disabled:hover {\n",
              "    background-color: var(--disabled-bg-color);\n",
              "    fill: var(--disabled-fill-color);\n",
              "    box-shadow: none;\n",
              "  }\n",
              "\n",
              "  .colab-df-spinner {\n",
              "    border: 2px solid var(--fill-color);\n",
              "    border-color: transparent;\n",
              "    border-bottom-color: var(--fill-color);\n",
              "    animation:\n",
              "      spin 1s steps(1) infinite;\n",
              "  }\n",
              "\n",
              "  @keyframes spin {\n",
              "    0% {\n",
              "      border-color: transparent;\n",
              "      border-bottom-color: var(--fill-color);\n",
              "      border-left-color: var(--fill-color);\n",
              "    }\n",
              "    20% {\n",
              "      border-color: transparent;\n",
              "      border-left-color: var(--fill-color);\n",
              "      border-top-color: var(--fill-color);\n",
              "    }\n",
              "    30% {\n",
              "      border-color: transparent;\n",
              "      border-left-color: var(--fill-color);\n",
              "      border-top-color: var(--fill-color);\n",
              "      border-right-color: var(--fill-color);\n",
              "    }\n",
              "    40% {\n",
              "      border-color: transparent;\n",
              "      border-right-color: var(--fill-color);\n",
              "      border-top-color: var(--fill-color);\n",
              "    }\n",
              "    60% {\n",
              "      border-color: transparent;\n",
              "      border-right-color: var(--fill-color);\n",
              "    }\n",
              "    80% {\n",
              "      border-color: transparent;\n",
              "      border-right-color: var(--fill-color);\n",
              "      border-bottom-color: var(--fill-color);\n",
              "    }\n",
              "    90% {\n",
              "      border-color: transparent;\n",
              "      border-bottom-color: var(--fill-color);\n",
              "    }\n",
              "  }\n",
              "</style>\n",
              "\n",
              "  <script>\n",
              "    async function quickchart(key) {\n",
              "      const quickchartButtonEl =\n",
              "        document.querySelector('#' + key + ' button');\n",
              "      quickchartButtonEl.disabled = true;  // To prevent multiple clicks.\n",
              "      quickchartButtonEl.classList.add('colab-df-spinner');\n",
              "      try {\n",
              "        const charts = await google.colab.kernel.invokeFunction(\n",
              "            'suggestCharts', [key], {});\n",
              "      } catch (error) {\n",
              "        console.error('Error during call to suggestCharts:', error);\n",
              "      }\n",
              "      quickchartButtonEl.classList.remove('colab-df-spinner');\n",
              "      quickchartButtonEl.classList.add('colab-df-quickchart-complete');\n",
              "    }\n",
              "    (() => {\n",
              "      let quickchartButtonEl =\n",
              "        document.querySelector('#df-800df3af-e051-4fb4-af1d-3b857295a5e3 button');\n",
              "      quickchartButtonEl.style.display =\n",
              "        google.colab.kernel.accessAllowed ? 'block' : 'none';\n",
              "    })();\n",
              "  </script>\n",
              "</div>\n",
              "    </div>\n",
              "  </div>\n"
            ]
          },
          "metadata": {},
          "execution_count": 10
        }
      ]
    },
    {
      "cell_type": "code",
      "source": [
        "#Formating the datasets in the way we want. Features and labelts are being seperated and done seperately for both Train and valid sets\n",
        "classifier = SVC()\n",
        "\n",
        "X = pd.DataFrame(train_set.iloc[:, :-4].values)\n",
        "label_1 = train_set['label_1']\n",
        "label_2 = train_set['label_2']\n",
        "label_3 = train_set['label_3']\n",
        "label_4 = train_set['label_4']\n",
        "\n",
        "X_valid = pd.DataFrame(valid_set.iloc[:, :-4].values)\n",
        "label_1_valid = valid_set['label_1']\n",
        "label_2_valid = valid_set['label_2']\n",
        "label_3_valid = valid_set['label_3']\n",
        "label_4_valid = valid_set['label_4']\n",
        "\n",
        "#Initial accuracy is being checked after training through a svc model.\n",
        "classifier.fit(X,label_3)\n",
        "predicted_label3 = classifier.predict(X_valid)\n",
        "\n",
        "print(\"accuracy_score: \",metrics.accuracy_score(label_3_valid, predicted_label3))\n",
        "# print(\"f1_score: \",f1_score(label_1_valid, predicted_label1, average='weighted')) #f-1 score\n",
        "# print(\"precision_score: \",metrics.precision_score(label_1_valid, predicted_label1, average='weighted' ))\n",
        "# print(\"recall_score: \",metrics.recall_score(label_1_valid, predicted_label1, average='weighted'))"
      ],
      "metadata": {
        "colab": {
          "base_uri": "https://localhost:8080/"
        },
        "id": "B6Alw1LgToIh",
        "outputId": "8c6929a1-95a8-48a3-9eda-22d2fb08f061"
      },
      "execution_count": 13,
      "outputs": [
        {
          "output_type": "stream",
          "name": "stdout",
          "text": [
            "accuracy_score:  0.8070652173913043\n"
          ]
        }
      ]
    },
    {
      "cell_type": "markdown",
      "source": [
        "#Label 3"
      ],
      "metadata": {
        "id": "VifktnfFT7tk"
      }
    },
    {
      "cell_type": "code",
      "source": [
        "# @title PCA for Label 3\n",
        "from sklearn.decomposition import PCA\n",
        "\n",
        "X_test = pd.DataFrame(test_set.iloc[:, 1:].values)\n",
        "#Validation\n",
        "pca = PCA(n_components=0.95, svd_solver='full')\n",
        "pca.fit(X)\n",
        "x_train_pca = pd.DataFrame(pca.transform(X)) #train\n",
        "x_valid_pca = pd.DataFrame(pca.transform(X_valid)) #valid\n",
        "x_test_pca = pd.DataFrame(pca.transform(X_test))\n",
        "print('Shape after PCA: ',x_train_pca.shape)\n",
        "\n"
      ],
      "metadata": {
        "colab": {
          "base_uri": "https://localhost:8080/"
        },
        "id": "NIhi0-5xbRMo",
        "outputId": "eb1fa922-5911-466d-934d-9c62dff20293"
      },
      "execution_count": 20,
      "outputs": [
        {
          "output_type": "stream",
          "name": "stdout",
          "text": [
            "Shape after PCA:  (28040, 85)\n"
          ]
        }
      ]
    },
    {
      "cell_type": "code",
      "source": [
        "# @title svm classifier with pca\n",
        "from sklearn import svm\n",
        "\n",
        "# For classification with a linear kernel\n",
        "classifier = svm.SVC(kernel='linear', C=1)\n",
        "\n",
        "# For regression with a linear kernel\n",
        "# classifier = svm.SVR(kernel='linear', C=1.0)\n",
        "\n",
        "# Train the model\n",
        "# classifier.fit(x_train_df, y_train_df)\n",
        "classifier.fit(x_train_pca, label_3)\n",
        "\n",
        "#predict for validation\n",
        "y_valid_pred = classifier.predict(x_valid_pca)\n",
        "\n",
        "#accuracy\n",
        "print(\"accuracy_score: \",metrics.accuracy_score(label_3_valid, y_valid_pred))"
      ],
      "metadata": {
        "colab": {
          "base_uri": "https://localhost:8080/"
        },
        "id": "pNtXYGtxbs1w",
        "outputId": "10981fdd-ec3e-4ef7-e59d-b84344c6a635"
      },
      "execution_count": 18,
      "outputs": [
        {
          "output_type": "stream",
          "name": "stdout",
          "text": [
            "accuracy_score:  0.9035326086956522\n"
          ]
        }
      ]
    },
    {
      "cell_type": "code",
      "source": [
        "# @title CatBoost with cpa\n",
        "import catboost\n",
        "from catboost import CatBoostClassifier, CatBoostRegressor\n",
        "\n",
        "# For classification\n",
        "classifier_cat_l3 = CatBoostClassifier(iterations=500, learning_rate=0.1, depth=6)\n",
        "\n",
        "# For regression\n",
        "# classifier = CatBoostRegressor(iterations=500, learning_rate=0.1, depth=6)\n",
        "\n",
        "# Train the model\n",
        "classifier_cat_l3.fit(x_train_pca, label_3, eval_set=(x_train_pca, label_3), verbose=100)\n",
        "\n",
        "#predict for validation\n",
        "y_valid_pred_l3_cat = classifier_cat_l3.predict(x_valid_pca)\n",
        "\n",
        "#accuracy\n",
        "print(\"accuracy_score: \",metrics.accuracy_score(label_3_valid, y_valid_pred_l3_cat))\n",
        "\n",
        "#predict\n",
        "#y_test_pred = classifier_cat_l2.predict(x_test_df)"
      ],
      "metadata": {
        "colab": {
          "base_uri": "https://localhost:8080/"
        },
        "id": "C1PMzKGSoeJC",
        "outputId": "86cdb645-1305-4f8f-91a5-619d17413b10"
      },
      "execution_count": 56,
      "outputs": [
        {
          "output_type": "stream",
          "name": "stdout",
          "text": [
            "0:\tlearn: 0.6135166\ttest: 0.6135579\tbest: 0.6135579 (0)\ttotal: 48.8ms\tremaining: 24.4s\n",
            "100:\tlearn: 0.0886105\ttest: 0.0886221\tbest: 0.0886221 (100)\ttotal: 3.92s\tremaining: 15.5s\n",
            "200:\tlearn: 0.0431871\ttest: 0.0431965\tbest: 0.0431965 (200)\ttotal: 7.55s\tremaining: 11.2s\n",
            "300:\tlearn: 0.0248285\ttest: 0.0248362\tbest: 0.0248362 (300)\ttotal: 13.5s\tremaining: 8.95s\n",
            "400:\tlearn: 0.0150950\ttest: 0.0151015\tbest: 0.0151015 (400)\ttotal: 17.1s\tremaining: 4.23s\n",
            "499:\tlearn: 0.0095588\ttest: 0.0095645\tbest: 0.0095645 (499)\ttotal: 20.8s\tremaining: 0us\n",
            "\n",
            "bestTest = 0.009564464387\n",
            "bestIteration = 499\n",
            "\n",
            "accuracy_score:  0.8478260869565217\n"
          ]
        }
      ]
    },
    {
      "cell_type": "code",
      "source": [
        "# @title Catboost without cpa\n",
        "# For classification\n",
        "classifier_cat_l3 = CatBoostClassifier(iterations=500, learning_rate=0.1, depth=6)\n",
        "\n",
        "# For regression\n",
        "# classifier = CatBoostRegressor(iterations=500, learning_rate=0.1, depth=6)\n",
        "\n",
        "# Train the model\n",
        "classifier_cat_l3.fit(X, label_3, eval_set=(X, label_3), verbose=100)\n",
        "\n",
        "#predict for validation\n",
        "y_valid_pred_l3_cat = classifier_cat_l3.predict(X_valid)\n",
        "\n",
        "#accuracy\n",
        "print(\"accuracy_score: \",metrics.accuracy_score(label_3_valid, y_valid_pred_l3_cat))\n",
        "\n",
        "#predict\n",
        "#y_test_pred = classifier_cat_l2.predict(x_test_df)"
      ],
      "metadata": {
        "colab": {
          "base_uri": "https://localhost:8080/"
        },
        "id": "_CJumE82pUrY",
        "outputId": "3dad7081-f68b-4400-d019-b25bef3f5fa2"
      },
      "execution_count": 57,
      "outputs": [
        {
          "output_type": "stream",
          "name": "stdout",
          "text": [
            "0:\tlearn: 0.6118780\ttest: 0.6119255\tbest: 0.6119255 (0)\ttotal: 520ms\tremaining: 4m 19s\n",
            "100:\tlearn: 0.0773650\ttest: 0.0773766\tbest: 0.0773766 (100)\ttotal: 32.4s\tremaining: 2m 7s\n",
            "200:\tlearn: 0.0355953\ttest: 0.0356045\tbest: 0.0356045 (200)\ttotal: 1m 2s\tremaining: 1m 33s\n",
            "300:\tlearn: 0.0195549\ttest: 0.0195626\tbest: 0.0195626 (300)\ttotal: 1m 33s\tremaining: 1m 1s\n",
            "400:\tlearn: 0.0116400\ttest: 0.0116465\tbest: 0.0116465 (400)\ttotal: 2m 3s\tremaining: 30.5s\n",
            "499:\tlearn: 0.0075544\ttest: 0.0075598\tbest: 0.0075598 (499)\ttotal: 2m 33s\tremaining: 0us\n",
            "\n",
            "bestTest = 0.007559823066\n",
            "bestIteration = 499\n",
            "\n",
            "accuracy_score:  0.8559782608695652\n"
          ]
        }
      ]
    },
    {
      "cell_type": "code",
      "source": [
        "# @title making csv for label 3\n",
        "predicted_label3_test = classifier.predict(x_test_pca)\n",
        "\n",
        "predicted_df = pd.DataFrame({'label_3': predicted_label3_test})\n",
        "\n",
        "# Save the DataFrame to a CSV file\n",
        "predicted_df.to_csv('/content/drive/MyDrive/ML/Results/Label 12/predicted_L12_label3.csv', index=False)"
      ],
      "metadata": {
        "id": "lWeDAGZ_hVeY"
      },
      "execution_count": 22,
      "outputs": []
    },
    {
      "cell_type": "code",
      "source": [
        "# @title hyper parameter tuning for label 3\n",
        "from sklearn.svm import SVC\n",
        "from sklearn.metrics import classification_report\n",
        "from sklearn.model_selection import cross_val_score, StratifiedKFold\n",
        "from scipy.stats import uniform\n",
        "from sklearn.experimental import enable_halving_search_cv\n",
        "from sklearn.model_selection import GridSearchCV, RandomizedSearchCV,HalvingGridSearchCV\n",
        "\n",
        "# Define the hyperparameter grid\n",
        "param_grid = {\n",
        "    'C': [0.1,1,10,20,100],\n",
        "    'kernel': ['linear', 'rbf', 'poly', 'sigmoid'],  # Experiment with different kernels\n",
        "    'gamma':['scale', 'auto'],\n",
        "    'degree': [1,2,3,4]\n",
        "\n",
        "}\n",
        "\n",
        "# Create an SVM classifier\n",
        "svm_classifier_label3 = SVC(class_weight='balanced')\n",
        "\n",
        "# Perform grid search with cross-validation\n",
        "grid_search_label3 = HalvingGridSearchCV(svm_classifier_label3, param_grid, scoring='accuracy', cv=5,n_jobs=-1, factor=2, verbose=1)\n",
        "grid_search_label3.fit(x_train_pca, label_3)\n",
        "\n",
        "# Get the best model and hyperparameters\n",
        "best_svm_classifier = grid_search_label3.best_estimator_\n",
        "best_params_label3 = grid_search_label3.best_params_\n",
        "\n",
        "# Make predictions on the validation set\n",
        "y_pred_lable3 = best_svm_classifier.predict(x_valid_pca)\n",
        "\n",
        "# Evaluate the model\n",
        "print(\"Best Hyperparameters:\", best_params_label3)\n",
        "print(\"accuracy_score: \",metrics.accuracy_score(label_3_valid, y_pred_lable3))"
      ],
      "metadata": {
        "colab": {
          "base_uri": "https://localhost:8080/"
        },
        "id": "YoTci4UweptI",
        "outputId": "c351af26-e66a-4877-f607-114f5ad2e61b"
      },
      "execution_count": 19,
      "outputs": [
        {
          "output_type": "stream",
          "name": "stdout",
          "text": [
            "n_iterations: 8\n",
            "n_required_iterations: 8\n",
            "n_possible_iterations: 8\n",
            "min_resources_: 219\n",
            "max_resources_: 28040\n",
            "aggressive_elimination: False\n",
            "factor: 2\n",
            "----------\n",
            "iter: 0\n",
            "n_candidates: 160\n",
            "n_resources: 219\n",
            "Fitting 5 folds for each of 160 candidates, totalling 800 fits\n",
            "----------\n",
            "iter: 1\n",
            "n_candidates: 80\n",
            "n_resources: 438\n",
            "Fitting 5 folds for each of 80 candidates, totalling 400 fits\n",
            "----------\n",
            "iter: 2\n",
            "n_candidates: 40\n",
            "n_resources: 876\n",
            "Fitting 5 folds for each of 40 candidates, totalling 200 fits\n",
            "----------\n",
            "iter: 3\n",
            "n_candidates: 20\n",
            "n_resources: 1752\n",
            "Fitting 5 folds for each of 20 candidates, totalling 100 fits\n",
            "----------\n",
            "iter: 4\n",
            "n_candidates: 10\n",
            "n_resources: 3504\n",
            "Fitting 5 folds for each of 10 candidates, totalling 50 fits\n",
            "----------\n",
            "iter: 5\n",
            "n_candidates: 5\n",
            "n_resources: 7008\n",
            "Fitting 5 folds for each of 5 candidates, totalling 25 fits\n",
            "----------\n",
            "iter: 6\n",
            "n_candidates: 3\n",
            "n_resources: 14016\n",
            "Fitting 5 folds for each of 3 candidates, totalling 15 fits\n",
            "----------\n",
            "iter: 7\n",
            "n_candidates: 2\n",
            "n_resources: 28032\n",
            "Fitting 5 folds for each of 2 candidates, totalling 10 fits\n",
            "Best Hyperparameters: {'C': 10, 'degree': 3, 'gamma': 'scale', 'kernel': 'rbf'}\n",
            "accuracy_score:  0.8070652173913043\n"
          ]
        }
      ]
    },
    {
      "cell_type": "code",
      "source": [
        "# @title svm Classifier without pca\n",
        "from sklearn import svm\n",
        "\n",
        "# For classification with a linear kernel\n",
        "classifier_label3 = svm.SVC(kernel='rbf', C=10, gamma='scale', degree=3)\n",
        "\n",
        "# For regression with a linear kernel\n",
        "# classifier = svm.SVR(kernel='linear', C=1.0)\n",
        "\n",
        "# Train the model\n",
        "# classifier.fit(x_train_df, y_train_df)\n",
        "classifier_label3.fit(X, label_3)\n",
        "\n",
        "#predict for validation\n",
        "y_valid_pred = classifier_label3.predict(X_valid)\n",
        "\n",
        "#accuracy\n",
        "print(\"accuracy_score: \",metrics.accuracy_score(label_3_valid, y_valid_pred))"
      ],
      "metadata": {
        "colab": {
          "base_uri": "https://localhost:8080/"
        },
        "id": "KS9WZgUtmndp",
        "outputId": "e061aba1-4701-42ff-d023-f46676961490"
      },
      "execution_count": 26,
      "outputs": [
        {
          "output_type": "stream",
          "name": "stdout",
          "text": [
            "accuracy_score:  0.8070652173913043\n"
          ]
        }
      ]
    },
    {
      "cell_type": "code",
      "source": [],
      "metadata": {
        "id": "EmQWdpFKpF0B"
      },
      "execution_count": null,
      "outputs": []
    },
    {
      "cell_type": "code",
      "source": [
        "# @title Random Forrest\n",
        "\n",
        "from sklearn.ensemble import RandomForestClassifier  # For classification\n",
        "# or\n",
        "from sklearn.ensemble import RandomForestRegressor\n",
        "# For classification\n",
        "\n",
        "classifier_random = RandomForestClassifier(n_estimators=100, random_state=42)\n",
        "\n",
        "# Train the model\n",
        "classifier_random.fit(X, label_3)\n",
        "\n",
        "#predict for validation\n",
        "y_valid_pred = classifier_random.predict(X_valid)\n",
        "\n",
        "#accuracy\n",
        "print(\"accuracy_score: \",metrics.accuracy_score(label_3_valid, y_valid_pred))\n",
        "\n",
        "#predict\n",
        "#y_test_pred = classifier.predict(x_test_df)"
      ],
      "metadata": {
        "colab": {
          "base_uri": "https://localhost:8080/"
        },
        "id": "rxoQqDfXU13Z",
        "outputId": "3c2f1a5f-95b3-4d2e-c55e-98f96854aa70"
      },
      "execution_count": 14,
      "outputs": [
        {
          "output_type": "stream",
          "name": "stdout",
          "text": [
            "accuracy_score:  0.4361413043478261\n"
          ]
        }
      ]
    },
    {
      "cell_type": "markdown",
      "source": [
        "#Label 4\n"
      ],
      "metadata": {
        "id": "AerI5UYgidch"
      }
    },
    {
      "cell_type": "code",
      "source": [
        "# @title svm classifier without pca\n",
        "classifier_normal_l4 = SVC()\n",
        "\n",
        "classifier_normal_l4.fit(X,label_4)\n",
        "predicted_label4 = classifier_normal_l4.predict(X_valid)\n",
        "\n",
        "print(\"accuracy_score: \",metrics.accuracy_score(label_4_valid, predicted_label4))\n",
        "# print(\"f1_score: \",f1_score(label_1_valid, predicted_label1, average='weighted')) #f-1 score\n",
        "# print(\"precision_score: \",metrics.precision_score(label_1_valid, predicted_label1, average='weighted' ))\n",
        "# print(\"recall_score: \",metrics.recall_score(label_1_valid, predicted_label1, average='weighted'))"
      ],
      "metadata": {
        "colab": {
          "base_uri": "https://localhost:8080/"
        },
        "id": "ZG6V5kEcigXP",
        "outputId": "2db4431e-fa69-4c89-8b0d-69f67b46470e"
      },
      "execution_count": 24,
      "outputs": [
        {
          "output_type": "stream",
          "name": "stdout",
          "text": [
            "accuracy_score:  0.7038043478260869\n"
          ]
        }
      ]
    },
    {
      "cell_type": "code",
      "source": [
        "# @title CatBoost with pca\n",
        "import catboost\n",
        "from catboost import CatBoostClassifier, CatBoostRegressor\n",
        "\n",
        "# For classification\n",
        "classifier_cat_l4 = CatBoostClassifier(iterations=500, learning_rate=0.1, depth=6)\n",
        "\n",
        "# For regression\n",
        "# classifier = CatBoostRegressor(iterations=500, learning_rate=0.1, depth=6)\n",
        "\n",
        "# Train the model\n",
        "classifier_cat_l4.fit(x_train_pca, label_4, eval_set=(x_train_pca, label_4), verbose=100)\n",
        "\n",
        "#predict for validation\n",
        "y_valid_pred_l4_cat = classifier_cat_l4.predict(x_valid_pca)\n",
        "\n",
        "#accuracy\n",
        "print(\"accuracy_score: \",metrics.accuracy_score(label_4_valid, y_valid_pred_l4_cat))\n",
        "\n",
        "#predict\n",
        "#y_test_pred = classifier_cat_l2.predict(x_test_df)"
      ],
      "metadata": {
        "colab": {
          "base_uri": "https://localhost:8080/"
        },
        "id": "Ugz3TvT4qh4-",
        "outputId": "76fd7d19-70bb-488c-9050-dcc93cb77c8c"
      },
      "execution_count": 58,
      "outputs": [
        {
          "output_type": "stream",
          "name": "stdout",
          "text": [
            "0:\tlearn: 2.1090727\ttest: 2.1090727\tbest: 2.1090727 (0)\ttotal: 671ms\tremaining: 5m 35s\n",
            "100:\tlearn: 0.6677801\ttest: 0.6677801\tbest: 0.6677801 (100)\ttotal: 1m 13s\tremaining: 4m 49s\n",
            "200:\tlearn: 0.4146952\ttest: 0.4146952\tbest: 0.4146952 (200)\ttotal: 2m 24s\tremaining: 3m 34s\n",
            "300:\tlearn: 0.2939458\ttest: 0.2939458\tbest: 0.2939458 (300)\ttotal: 3m 33s\tremaining: 2m 21s\n",
            "400:\tlearn: 0.2243460\ttest: 0.2243460\tbest: 0.2243460 (400)\ttotal: 4m 40s\tremaining: 1m 9s\n",
            "499:\tlearn: 0.1772621\ttest: 0.1772621\tbest: 0.1772621 (499)\ttotal: 5m 44s\tremaining: 0us\n",
            "\n",
            "bestTest = 0.1772621208\n",
            "bestIteration = 499\n",
            "\n",
            "accuracy_score:  0.626358695652174\n"
          ]
        }
      ]
    },
    {
      "cell_type": "code",
      "source": [
        "# @title CatBoost without pca\n",
        "import catboost\n",
        "from catboost import CatBoostClassifier, CatBoostRegressor\n",
        "\n",
        "# For classification\n",
        "classifier_cat_l4_norm = CatBoostClassifier(iterations=500, learning_rate=0.1, depth=6)\n",
        "\n",
        "# For regression\n",
        "# classifier = CatBoostRegressor(iterations=500, learning_rate=0.1, depth=6)\n",
        "\n",
        "# Train the model\n",
        "classifier_cat_l4_norm.fit(X, label_4, eval_set=(X, label_4), verbose=100)\n",
        "\n",
        "#predict for validation\n",
        "y_valid_pred_l4_cat_norm = classifier_cat_l4_norm.predict(X_valid)\n",
        "\n",
        "#accuracy\n",
        "print(\"accuracy_score: \",metrics.accuracy_score(label_4_valid, y_valid_pred_l4_cat_norm))\n",
        "\n",
        "#predict\n",
        "#y_test_pred = classifier_cat_l2.predict(x_test_df)"
      ],
      "metadata": {
        "colab": {
          "base_uri": "https://localhost:8080/"
        },
        "id": "0AgwAirSYPYy",
        "outputId": "d53e9ac1-bcab-49ed-cc1b-f9e1cd0c7c73"
      },
      "execution_count": 63,
      "outputs": [
        {
          "output_type": "stream",
          "name": "stdout",
          "text": [
            "0:\tlearn: 2.1157967\ttest: 2.1157967\tbest: 2.1157967 (0)\ttotal: 4.92s\tremaining: 40m 54s\n",
            "100:\tlearn: 0.6960878\ttest: 0.6960878\tbest: 0.6960878 (100)\ttotal: 10m 32s\tremaining: 41m 39s\n",
            "200:\tlearn: 0.4359097\ttest: 0.4359097\tbest: 0.4359097 (200)\ttotal: 20m 59s\tremaining: 31m 12s\n",
            "300:\tlearn: 0.3176489\ttest: 0.3176489\tbest: 0.3176489 (300)\ttotal: 30m 36s\tremaining: 20m 13s\n",
            "400:\tlearn: 0.2514033\ttest: 0.2514033\tbest: 0.2514033 (400)\ttotal: 40m 14s\tremaining: 9m 56s\n",
            "499:\tlearn: 0.2066170\ttest: 0.2066170\tbest: 0.2066170 (499)\ttotal: 49m 46s\tremaining: 0us\n",
            "\n",
            "bestTest = 0.2066169633\n",
            "bestIteration = 499\n",
            "\n",
            "accuracy_score:  0.5760869565217391\n"
          ]
        }
      ]
    },
    {
      "cell_type": "code",
      "source": [
        "# @title Random Forrest without pca\n",
        "\n",
        "from sklearn.ensemble import RandomForestClassifier  # For classification\n",
        "# or\n",
        "from sklearn.ensemble import RandomForestRegressor\n",
        "# For classification\n",
        "\n",
        "classifier_random_l4 = RandomForestClassifier(n_estimators=100, random_state=42)\n",
        "\n",
        "# Train the model\n",
        "classifier_random_l4.fit(X, label_4)\n",
        "\n",
        "#predict for validation\n",
        "y_valid_pred_l4 = classifier_random_l4.predict(X_valid)\n",
        "\n",
        "#accuracy\n",
        "print(\"accuracy_score: \",metrics.accuracy_score(label_4_valid, y_valid_pred_l4))\n",
        "\n",
        "#predict\n",
        "#y_test_pred = classifier.predict(x_test_df)"
      ],
      "metadata": {
        "colab": {
          "base_uri": "https://localhost:8080/"
        },
        "id": "QR23Zcedl3F4",
        "outputId": "66bd83bb-ec8b-4852-eae1-7ad50e4d86d7"
      },
      "execution_count": 27,
      "outputs": [
        {
          "output_type": "stream",
          "name": "stdout",
          "text": [
            "accuracy_score:  0.6671195652173914\n"
          ]
        }
      ]
    },
    {
      "cell_type": "code",
      "source": [
        "# @title Random Forrest with pca\n",
        "\n",
        "from sklearn.ensemble import RandomForestClassifier  # For classification\n",
        "# or\n",
        "from sklearn.ensemble import RandomForestRegressor\n",
        "# For classification\n",
        "\n",
        "classifier_random_l4_pca = RandomForestClassifier(n_estimators=100, random_state=42)\n",
        "\n",
        "# Train the model\n",
        "classifier_random_l4_pca.fit(x_train_pca, label_4)\n",
        "\n",
        "#predict for validation\n",
        "y_valid_pred_l4_pca = classifier_random_l4_pca.predict(x_valid_pca)\n",
        "\n",
        "#accuracy\n",
        "print(\"accuracy_score: \",metrics.accuracy_score(label_4_valid, y_valid_pred_l4_pca))\n",
        "\n",
        "#predict\n",
        "#y_test_pred = classifier.predict(x_test_df)"
      ],
      "metadata": {
        "colab": {
          "base_uri": "https://localhost:8080/"
        },
        "id": "7YtHmMiDyL6Q",
        "outputId": "5d08f61c-3c36-49fa-96b4-021833cdc6a3"
      },
      "execution_count": 30,
      "outputs": [
        {
          "output_type": "stream",
          "name": "stdout",
          "text": [
            "accuracy_score:  0.7078804347826086\n"
          ]
        }
      ]
    },
    {
      "cell_type": "code",
      "source": [
        "#@title making csv for label 4\n",
        "predicted_label4_test = classifier_random_l4_pca.predict(x_test_pca)\n",
        "\n",
        "\n",
        "predicted_df_l4 = pd.DataFrame({'label_4': predicted_label4_test})\n",
        "\n",
        "# Save the DataFrame to a CSV file\n",
        "predicted_df_l4.to_csv('/content/drive/MyDrive/ML/Results/Label 12/predicted_L12_label4.csv', index=False)"
      ],
      "metadata": {
        "id": "MvPZ_jZczE0_"
      },
      "execution_count": 31,
      "outputs": []
    },
    {
      "cell_type": "code",
      "source": [
        "# @title svm classifier using PCA\n",
        "from sklearn import svm\n",
        "\n",
        "# For classification with a linear kernel\n",
        "classifier_l4 = svm.SVC()\n",
        "\n",
        "# For regression with a linear kernel\n",
        "# classifier = svm.SVR(kernel='linear', C=1.0)\n",
        "\n",
        "# Train the model\n",
        "# classifier.fit(x_train_df, y_train_df)\n",
        "classifier_l4.fit(x_train_pca, label_4)\n",
        "\n",
        "#predict for validation\n",
        "y_valid_pred_l4_pca = classifier_l4.predict(x_valid_pca)\n",
        "\n",
        "#accuracy\n",
        "print(\"accuracy_score: \",metrics.accuracy_score(label_4_valid, y_valid_pred_l4_pca))"
      ],
      "metadata": {
        "colab": {
          "base_uri": "https://localhost:8080/"
        },
        "id": "AzfJ4Bm5qmBS",
        "outputId": "6352643e-5ddb-4b5f-99bc-43aa7a4114c8"
      },
      "execution_count": 28,
      "outputs": [
        {
          "output_type": "stream",
          "name": "stdout",
          "text": [
            "accuracy_score:  0.7038043478260869\n"
          ]
        }
      ]
    },
    {
      "cell_type": "code",
      "source": [
        "#@title Hyper parameter tuning\n",
        "from sklearn.svm import SVC\n",
        "from sklearn.metrics import classification_report\n",
        "from sklearn.model_selection import cross_val_score, StratifiedKFold\n",
        "from scipy.stats import uniform\n",
        "from sklearn.experimental import enable_halving_search_cv\n",
        "from sklearn.model_selection import GridSearchCV, RandomizedSearchCV,HalvingGridSearchCV\n",
        "\n",
        "# Define the hyperparameter grid\n",
        "param_grid = {\n",
        "    'C': [0.1,1,10,20,100],\n",
        "    'kernel': ['linear', 'rbf', 'poly', 'sigmoid'],  # Experiment with different kernels\n",
        "    'gamma':['scale', 'auto'],\n",
        "    'degree': [1,2,3,4]\n",
        "\n",
        "}\n",
        "\n",
        "# Create an SVM classifier\n",
        "svm_classifier_label4 = SVC(class_weight='balanced')\n",
        "\n",
        "# Perform grid search with cross-validation\n",
        "grid_search_label4 = HalvingGridSearchCV(svm_classifier_label4, param_grid, scoring='accuracy', cv=5,n_jobs=-1, factor=2, verbose=1)\n",
        "grid_search_label4.fit(x_train_pca, label_4)\n",
        "\n",
        "# Get the best model and hyperparameters\n",
        "best_svm_classifier_l4 = grid_search_label4.best_estimator_\n",
        "best_params_label4 = grid_search_label4.best_params_\n",
        "\n",
        "# Make predictions on the validation set\n",
        "y_pred_lable4 = best_svm_classifier_l4.predict(x_valid_pca)\n",
        "\n",
        "# Evaluate the model\n",
        "print(\"Best Hyperparameters:\", best_params_label4)\n",
        "print(\"accuracy_score: \",metrics.accuracy_score(label_4_valid, y_pred_lable4))"
      ],
      "metadata": {
        "colab": {
          "base_uri": "https://localhost:8080/"
        },
        "id": "-LcE8fiWrWno",
        "outputId": "e8900e33-2a56-4c32-f353-e2882e9b4168"
      },
      "execution_count": 29,
      "outputs": [
        {
          "output_type": "stream",
          "name": "stdout",
          "text": [
            "n_iterations: 8\n",
            "n_required_iterations: 8\n",
            "n_possible_iterations: 8\n",
            "min_resources_: 219\n",
            "max_resources_: 28040\n",
            "aggressive_elimination: False\n",
            "factor: 2\n",
            "----------\n",
            "iter: 0\n",
            "n_candidates: 160\n",
            "n_resources: 219\n",
            "Fitting 5 folds for each of 160 candidates, totalling 800 fits\n",
            "----------\n",
            "iter: 1\n",
            "n_candidates: 80\n",
            "n_resources: 438\n",
            "Fitting 5 folds for each of 80 candidates, totalling 400 fits\n",
            "----------\n",
            "iter: 2\n",
            "n_candidates: 40\n",
            "n_resources: 876\n",
            "Fitting 5 folds for each of 40 candidates, totalling 200 fits\n",
            "----------\n",
            "iter: 3\n",
            "n_candidates: 20\n",
            "n_resources: 1752\n",
            "Fitting 5 folds for each of 20 candidates, totalling 100 fits\n",
            "----------\n",
            "iter: 4\n",
            "n_candidates: 10\n",
            "n_resources: 3504\n",
            "Fitting 5 folds for each of 10 candidates, totalling 50 fits\n",
            "----------\n",
            "iter: 5\n",
            "n_candidates: 5\n",
            "n_resources: 7008\n",
            "Fitting 5 folds for each of 5 candidates, totalling 25 fits\n",
            "----------\n",
            "iter: 6\n",
            "n_candidates: 3\n",
            "n_resources: 14016\n",
            "Fitting 5 folds for each of 3 candidates, totalling 15 fits\n",
            "----------\n",
            "iter: 7\n",
            "n_candidates: 2\n",
            "n_resources: 28032\n",
            "Fitting 5 folds for each of 2 candidates, totalling 10 fits\n",
            "Best Hyperparameters: {'C': 100, 'degree': 3, 'gamma': 'scale', 'kernel': 'rbf'}\n",
            "accuracy_score:  0.7038043478260869\n"
          ]
        }
      ]
    },
    {
      "cell_type": "markdown",
      "source": [
        "#Label 2"
      ],
      "metadata": {
        "id": "dR61knV81VQu"
      }
    },
    {
      "cell_type": "code",
      "source": [
        "#@title svm Classifier without pca\n",
        "classifier_normal_l2 = SVC()\n",
        "\n",
        "classifier_normal_l2.fit(X,label_2)\n",
        "predicted_label2 = classifier_normal_l2.predict(X_valid)\n",
        "\n",
        "print(\"accuracy_score: \",metrics.accuracy_score(label_2_valid, predicted_label2))\n",
        "# print(\"f1_score: \",f1_score(label_1_valid, predicted_label1, average='weighted')) #f-1 score\n",
        "# print(\"precision_score: \",metrics.precision_score(label_1_valid, predicted_label1, average='weighted' ))\n",
        "# print(\"recall_score: \",metrics.recall_score(label_1_valid, predicted_label1, average='weighted'))"
      ],
      "metadata": {
        "colab": {
          "base_uri": "https://localhost:8080/"
        },
        "id": "e_0fsR1U1Zml",
        "outputId": "3a2cbd25-98f2-45a1-dbf7-a4f1a7860cd3"
      },
      "execution_count": 32,
      "outputs": [
        {
          "output_type": "stream",
          "name": "stdout",
          "text": [
            "accuracy_score:  0.12092391304347826\n"
          ]
        }
      ]
    },
    {
      "cell_type": "code",
      "source": [
        "# @title Random Forrest without pca\n",
        "\n",
        "from sklearn.ensemble import RandomForestClassifier  # For classification\n",
        "# or\n",
        "from sklearn.ensemble import RandomForestRegressor\n",
        "# For classification\n",
        "\n",
        "classifier_random_l2 = RandomForestClassifier(n_estimators=100, random_state=42)\n",
        "\n",
        "# Train the model\n",
        "classifier_random_l2.fit(X, label_2)\n",
        "\n",
        "#predict for validation\n",
        "y_valid_pred_l2 = classifier_random_l2.predict(X_valid)\n",
        "\n",
        "#accuracy\n",
        "print(\"accuracy_score: \",metrics.accuracy_score(label_2_valid, y_valid_pred_l2))\n",
        "\n",
        "#predict\n",
        "#y_test_pred = classifier.predict(x_test_df)"
      ],
      "metadata": {
        "colab": {
          "base_uri": "https://localhost:8080/"
        },
        "id": "xQZG49Vc34ZH",
        "outputId": "aedafee0-b410-46c1-df08-31eae702b45b"
      },
      "execution_count": 33,
      "outputs": [
        {
          "output_type": "stream",
          "name": "stdout",
          "text": [
            "accuracy_score:  0.12092391304347826\n"
          ]
        }
      ]
    },
    {
      "cell_type": "code",
      "source": [
        "# @title Random Forrest with pca\n",
        "\n",
        "from sklearn.ensemble import RandomForestClassifier  # For classification\n",
        "# or\n",
        "from sklearn.ensemble import RandomForestRegressor\n",
        "# For classification\n",
        "\n",
        "classifier_random_l2_pca = RandomForestClassifier(n_estimators=100, random_state=42)\n",
        "\n",
        "# Train the model\n",
        "classifier_random_l2_pca.fit(x_train_pca, label_2)\n",
        "\n",
        "#predict for validation\n",
        "y_valid_pred_l2_pca = classifier_random_l2_pca.predict(x_valid_pca)\n",
        "\n",
        "#accuracy\n",
        "print(\"accuracy_score: \",metrics.accuracy_score(label_2_valid, y_valid_pred_l2_pca))\n",
        "\n",
        "#predict\n",
        "#y_test_pred = classifier.predict(x_test_df)"
      ],
      "metadata": {
        "colab": {
          "base_uri": "https://localhost:8080/"
        },
        "id": "b9tsJLz54obe",
        "outputId": "cfbd0b36-ab99-4fa1-c953-64f89007a245"
      },
      "execution_count": 35,
      "outputs": [
        {
          "output_type": "stream",
          "name": "stdout",
          "text": [
            "accuracy_score:  0.15217391304347827\n"
          ]
        }
      ]
    },
    {
      "cell_type": "code",
      "source": [
        "# @title svm classifier with PCA\n",
        "from sklearn import svm\n",
        "\n",
        "# For classification with a linear kernel\n",
        "classifier_l2 = svm.SVC()\n",
        "\n",
        "# For regression with a linear kernel\n",
        "# classifier = svm.SVR(kernel='linear', C=1.0)\n",
        "\n",
        "# Train the model\n",
        "# classifier.fit(x_train_df, y_train_df)\n",
        "classifier_l2.fit(x_train_pca, label_2)\n",
        "\n",
        "#predict for validation\n",
        "y_valid_pred_l2_pca = classifier_l2.predict(x_valid_pca)\n",
        "\n",
        "#accuracy\n",
        "print(\"accuracy_score: \",metrics.accuracy_score(label_2_valid, y_valid_pred_l2_pca))"
      ],
      "metadata": {
        "colab": {
          "base_uri": "https://localhost:8080/"
        },
        "id": "zOgiDMHB5WWG",
        "outputId": "8b9d816a-b8f5-40b8-e5f2-f0138f1df8c5"
      },
      "execution_count": 36,
      "outputs": [
        {
          "output_type": "stream",
          "name": "stdout",
          "text": [
            "accuracy_score:  0.12635869565217392\n"
          ]
        }
      ]
    },
    {
      "cell_type": "code",
      "source": [
        "!pip install catboost\n"
      ],
      "metadata": {
        "colab": {
          "base_uri": "https://localhost:8080/"
        },
        "id": "xmvNnCms6vmH",
        "outputId": "74e2dd73-31a3-4bd9-f159-e581f3a86f31"
      },
      "execution_count": 38,
      "outputs": [
        {
          "output_type": "stream",
          "name": "stdout",
          "text": [
            "Collecting catboost\n",
            "  Downloading catboost-1.2.2-cp310-cp310-manylinux2014_x86_64.whl (98.7 MB)\n",
            "\u001b[2K     \u001b[90m━━━━━━━━━━━━━━━━━━━━━━━━━━━━━━━━━━━━━━━━\u001b[0m \u001b[32m98.7/98.7 MB\u001b[0m \u001b[31m7.7 MB/s\u001b[0m eta \u001b[36m0:00:00\u001b[0m\n",
            "\u001b[?25hRequirement already satisfied: graphviz in /usr/local/lib/python3.10/dist-packages (from catboost) (0.20.1)\n",
            "Requirement already satisfied: matplotlib in /usr/local/lib/python3.10/dist-packages (from catboost) (3.7.1)\n",
            "Requirement already satisfied: numpy>=1.16.0 in /usr/local/lib/python3.10/dist-packages (from catboost) (1.23.5)\n",
            "Requirement already satisfied: pandas>=0.24 in /usr/local/lib/python3.10/dist-packages (from catboost) (1.5.3)\n",
            "Requirement already satisfied: scipy in /usr/local/lib/python3.10/dist-packages (from catboost) (1.11.2)\n",
            "Requirement already satisfied: plotly in /usr/local/lib/python3.10/dist-packages (from catboost) (5.15.0)\n",
            "Requirement already satisfied: six in /usr/local/lib/python3.10/dist-packages (from catboost) (1.16.0)\n",
            "Requirement already satisfied: python-dateutil>=2.8.1 in /usr/local/lib/python3.10/dist-packages (from pandas>=0.24->catboost) (2.8.2)\n",
            "Requirement already satisfied: pytz>=2020.1 in /usr/local/lib/python3.10/dist-packages (from pandas>=0.24->catboost) (2023.3.post1)\n",
            "Requirement already satisfied: contourpy>=1.0.1 in /usr/local/lib/python3.10/dist-packages (from matplotlib->catboost) (1.1.0)\n",
            "Requirement already satisfied: cycler>=0.10 in /usr/local/lib/python3.10/dist-packages (from matplotlib->catboost) (0.11.0)\n",
            "Requirement already satisfied: fonttools>=4.22.0 in /usr/local/lib/python3.10/dist-packages (from matplotlib->catboost) (4.42.1)\n",
            "Requirement already satisfied: kiwisolver>=1.0.1 in /usr/local/lib/python3.10/dist-packages (from matplotlib->catboost) (1.4.5)\n",
            "Requirement already satisfied: packaging>=20.0 in /usr/local/lib/python3.10/dist-packages (from matplotlib->catboost) (23.1)\n",
            "Requirement already satisfied: pillow>=6.2.0 in /usr/local/lib/python3.10/dist-packages (from matplotlib->catboost) (9.4.0)\n",
            "Requirement already satisfied: pyparsing>=2.3.1 in /usr/local/lib/python3.10/dist-packages (from matplotlib->catboost) (3.1.1)\n",
            "Requirement already satisfied: tenacity>=6.2.0 in /usr/local/lib/python3.10/dist-packages (from plotly->catboost) (8.2.3)\n",
            "Installing collected packages: catboost\n",
            "Successfully installed catboost-1.2.2\n"
          ]
        }
      ]
    },
    {
      "cell_type": "code",
      "source": [
        "# @title CatBoost with pca\n",
        "import catboost\n",
        "from catboost import CatBoostClassifier, CatBoostRegressor\n",
        "\n",
        "# For classification\n",
        "classifier_cat_l2 = CatBoostClassifier(iterations=500, learning_rate=0.1, depth=6)\n",
        "\n",
        "# For regression\n",
        "# classifier = CatBoostRegressor(iterations=500, learning_rate=0.1, depth=6)\n",
        "\n",
        "# Train the model\n",
        "classifier_cat_l2.fit(x_train_pca, label_2, eval_set=(x_train_pca, label_2), verbose=100)\n",
        "\n",
        "#predict for validation\n",
        "y_valid_pred_l2_cat = classifier_cat_l2.predict(x_valid_pca)\n",
        "\n",
        "#accuracy\n",
        "print(\"accuracy_score: \",metrics.accuracy_score(label_2_valid, y_valid_pred_l2_cat))\n",
        "\n",
        "#predict\n",
        "#y_test_pred = classifier_cat_l2.predict(x_test_df)"
      ],
      "metadata": {
        "colab": {
          "base_uri": "https://localhost:8080/"
        },
        "id": "dUS9I9Ka5fXF",
        "outputId": "c1fae676-64f4-4fc6-8412-266179b6ea34"
      },
      "execution_count": 39,
      "outputs": [
        {
          "output_type": "stream",
          "name": "stdout",
          "text": [
            "0:\tlearn: 2.7538639\ttest: 2.7538639\tbest: 2.7538639 (0)\ttotal: 2.74s\tremaining: 22m 47s\n",
            "100:\tlearn: 1.4101896\ttest: 1.4101896\tbest: 1.4101896 (100)\ttotal: 1m 50s\tremaining: 7m 16s\n",
            "200:\tlearn: 0.9788688\ttest: 0.9788688\tbest: 0.9788688 (200)\ttotal: 3m 24s\tremaining: 5m 4s\n",
            "300:\tlearn: 0.7408753\ttest: 0.7408753\tbest: 0.7408753 (300)\ttotal: 5m 3s\tremaining: 3m 20s\n",
            "400:\tlearn: 0.5951707\ttest: 0.5951707\tbest: 0.5951707 (400)\ttotal: 6m 32s\tremaining: 1m 36s\n",
            "499:\tlearn: 0.4850996\ttest: 0.4850996\tbest: 0.4850996 (499)\ttotal: 7m 59s\tremaining: 0us\n",
            "\n",
            "bestTest = 0.4850995791\n",
            "bestIteration = 499\n",
            "\n",
            "accuracy_score:  0.16032608695652173\n"
          ]
        }
      ]
    },
    {
      "cell_type": "code",
      "source": [
        "# @title CatBoost without pca\n",
        "import catboost\n",
        "from catboost import CatBoostClassifier, CatBoostRegressor\n",
        "\n",
        "# For classification\n",
        "classifier_cat_l2_norm = CatBoostClassifier(iterations=500, learning_rate=0.1, depth=6)\n",
        "\n",
        "# For regression\n",
        "# classifier = CatBoostRegressor(iterations=500, learning_rate=0.1, depth=6)\n",
        "\n",
        "# Train the model\n",
        "classifier_cat_l2_norm.fit(X, label_2, eval_set=(X, label_2), verbose=100)\n",
        "\n",
        "#predict for validation\n",
        "y_valid_pred_l2_cat_norm = classifier_cat_l2_norm.predict(X_valid)\n",
        "\n",
        "#accuracy\n",
        "print(\"accuracy_score: \",metrics.accuracy_score(label_2_valid, y_valid_pred_l2_cat_norm))\n",
        "\n",
        "#predict\n",
        "#y_test_pred = classifier_cat_l2.predict(x_test_df)"
      ],
      "metadata": {
        "colab": {
          "base_uri": "https://localhost:8080/"
        },
        "id": "BoNjOTu9svLY",
        "outputId": "9a06f88f-99a5-462d-9f33-63ceaa4a275d"
      },
      "execution_count": 59,
      "outputs": [
        {
          "output_type": "stream",
          "name": "stdout",
          "text": [
            "0:\tlearn: 2.7608290\ttest: 2.7608290\tbest: 2.7608290 (0)\ttotal: 8.45s\tremaining: 1h 10m 15s\n",
            "100:\tlearn: 1.5077344\ttest: 1.5077344\tbest: 1.5077344 (100)\ttotal: 12m 1s\tremaining: 47m 28s\n",
            "200:\tlearn: 1.0541296\ttest: 1.0541296\tbest: 1.0541296 (200)\ttotal: 23m 49s\tremaining: 35m 27s\n",
            "300:\tlearn: 0.8078472\ttest: 0.8078472\tbest: 0.8078472 (300)\ttotal: 35m 41s\tremaining: 23m 35s\n",
            "400:\tlearn: 0.6491879\ttest: 0.6491879\tbest: 0.6491879 (400)\ttotal: 48m\tremaining: 11m 51s\n",
            "499:\tlearn: 0.5420470\ttest: 0.5420470\tbest: 0.5420470 (499)\ttotal: 1h 34s\tremaining: 0us\n",
            "\n",
            "bestTest = 0.5420469823\n",
            "bestIteration = 499\n",
            "\n",
            "accuracy_score:  0.13043478260869565\n"
          ]
        }
      ]
    },
    {
      "cell_type": "code",
      "source": [
        "#@title making csv for label 2\n",
        "predicted_label2_test = classifier_cat_l2.predict(x_test_pca)\n",
        "predicted_label2_test = predicted_label2_test.flatten()\n",
        "predicted_label2_test = [int(value) for value in predicted_label2_test]\n",
        "\n",
        "predicted_df_l2 = pd.DataFrame({'label_2': predicted_label2_test})\n",
        "\n",
        "# Save the DataFrame to a CSV file\n",
        "predicted_df_l2.to_csv('/content/drive/MyDrive/ML/Results/Label 12/predicted_L12_label2.csv', index=False)"
      ],
      "metadata": {
        "id": "3CjEJjyZ94l2"
      },
      "execution_count": 48,
      "outputs": []
    },
    {
      "cell_type": "markdown",
      "source": [
        "# Label 1"
      ],
      "metadata": {
        "id": "31d4Odgf_slN"
      }
    },
    {
      "cell_type": "code",
      "source": [
        "# @title CatBoost with pca\n",
        "import catboost\n",
        "from catboost import CatBoostClassifier, CatBoostRegressor\n",
        "\n",
        "# For classification\n",
        "classifier_cat_l1 = CatBoostClassifier(iterations=500, learning_rate=0.1, depth=6)\n",
        "\n",
        "# For regression\n",
        "# classifier = CatBoostRegressor(iterations=500, learning_rate=0.1, depth=6)\n",
        "\n",
        "# Train the model\n",
        "classifier_cat_l1.fit(x_train_pca, label_1, eval_set=(x_train_pca, label_1), verbose=100)\n",
        "\n",
        "#predict for validation\n",
        "y_valid_pred_l1_cat = classifier_cat_l1.predict(x_valid_pca)\n",
        "\n",
        "#accuracy\n",
        "print(\"accuracy_score: \",metrics.accuracy_score(label_1_valid, y_valid_pred_l1_cat))\n",
        "\n",
        "#predict\n",
        "#y_test_pred = classifier_cat_l2.predict(x_test_df)"
      ],
      "metadata": {
        "colab": {
          "base_uri": "https://localhost:8080/"
        },
        "id": "og-UCTMP_vN9",
        "outputId": "a7e492f9-71d9-45b3-b378-d4d0cf2a668a"
      },
      "execution_count": 49,
      "outputs": [
        {
          "output_type": "stream",
          "name": "stdout",
          "text": [
            "0:\tlearn: 3.9704900\ttest: 3.9704900\tbest: 3.9704900 (0)\ttotal: 6.64s\tremaining: 55m 16s\n",
            "100:\tlearn: 1.1431422\ttest: 1.1431422\tbest: 1.1431422 (100)\ttotal: 5m 34s\tremaining: 22m 1s\n",
            "200:\tlearn: 0.5844094\ttest: 0.5844094\tbest: 0.5844094 (200)\ttotal: 10m 52s\tremaining: 16m 10s\n",
            "300:\tlearn: 0.3810186\ttest: 0.3810186\tbest: 0.3810186 (300)\ttotal: 16m 8s\tremaining: 10m 40s\n",
            "400:\tlearn: 0.2770342\ttest: 0.2770342\tbest: 0.2770342 (400)\ttotal: 21m 26s\tremaining: 5m 17s\n",
            "499:\tlearn: 0.2063233\ttest: 0.2063233\tbest: 0.2063233 (499)\ttotal: 26m 43s\tremaining: 0us\n",
            "\n",
            "bestTest = 0.2063233449\n",
            "bestIteration = 499\n",
            "\n",
            "accuracy_score:  0.10054347826086957\n"
          ]
        }
      ]
    },
    {
      "cell_type": "code",
      "source": [
        "# @title Random Forrest with pca\n",
        "\n",
        "from sklearn.ensemble import RandomForestClassifier  # For classification\n",
        "# or\n",
        "from sklearn.ensemble import RandomForestRegressor\n",
        "# For classification\n",
        "\n",
        "classifier_random_l1_pca = RandomForestClassifier(n_estimators=100, random_state=42)\n",
        "\n",
        "# Train the model\n",
        "classifier_random_l1_pca.fit(x_train_pca, label_1)\n",
        "\n",
        "#predict for validation\n",
        "y_valid_pred_l1_pca = classifier_random_l1_pca.predict(x_valid_pca)\n",
        "\n",
        "#accuracy\n",
        "print(\"accuracy_score: \",metrics.accuracy_score(label_1_valid, y_valid_pred_l1_pca))\n",
        "\n",
        "#predict\n",
        "#y_test_pred = classifier.predict(x_test_df)"
      ],
      "metadata": {
        "colab": {
          "base_uri": "https://localhost:8080/"
        },
        "id": "_Pyz3xUWG4pt",
        "outputId": "4596b797-8126-449d-c368-c0069359e244"
      },
      "execution_count": 50,
      "outputs": [
        {
          "output_type": "stream",
          "name": "stdout",
          "text": [
            "accuracy_score:  0.10597826086956522\n"
          ]
        }
      ]
    },
    {
      "cell_type": "code",
      "source": [
        "#@title making csv for label 1\n",
        "predicted_label1_test = classifier_random_l1_pca.predict(x_test_pca)\n",
        "\n",
        "\n",
        "predicted_df_l1 = pd.DataFrame({'label_1': predicted_label1_test})\n",
        "\n",
        "# Save the DataFrame to a CSV file\n",
        "predicted_df_l1.to_csv('/content/drive/MyDrive/ML/Results/Label 12/predicted_L12_label1.csv', index=False)"
      ],
      "metadata": {
        "id": "Ptcby92HIXoV"
      },
      "execution_count": 54,
      "outputs": []
    },
    {
      "cell_type": "code",
      "source": [
        "#@title hyper parameter tuning\n",
        "from sklearn.svm import SVC\n",
        "from sklearn.metrics import classification_report\n",
        "from sklearn.model_selection import cross_val_score, StratifiedKFold\n",
        "from scipy.stats import uniform\n",
        "from sklearn.experimental import enable_halving_search_cv\n",
        "from sklearn.model_selection import GridSearchCV, RandomizedSearchCV,HalvingGridSearchCV\n",
        "\n",
        "# Define the hyperparameter grid\n",
        "param_grid = {\n",
        "    'C': [0.1,1,10,20,100],\n",
        "    'kernel': ['linear', 'rbf', 'poly', 'sigmoid'],  # Experiment with different kernels\n",
        "    'gamma':['scale', 'auto'],\n",
        "    'degree': [1,2,3,4]\n",
        "\n",
        "}\n",
        "\n",
        "# Create an SVM classifier\n",
        "svm_classifier_label1 = SVC(class_weight='balanced')\n",
        "\n",
        "# Perform grid search with cross-validation\n",
        "grid_search_label1 = HalvingGridSearchCV(svm_classifier_label1, param_grid, scoring='accuracy', cv=5,n_jobs=-1, factor=2, verbose=1)\n",
        "grid_search_label1.fit(x_train_pca, label_1)\n",
        "\n",
        "# Get the best model and hyperparameters\n",
        "best_svm_classifier_l1 = grid_search_label1.best_estimator_\n",
        "best_params_label1 = grid_search_label1.best_params_\n",
        "\n",
        "# Make predictions on the validation set\n",
        "y_pred_lable1 = best_svm_classifier_l1.predict(x_valid_pca)\n",
        "\n",
        "# Evaluate the model\n",
        "print(\"Best Hyperparameters:\", best_params_label1)\n",
        "print(\"accuracy_score: \",metrics.accuracy_score(label_1_valid, y_pred_lable1))"
      ],
      "metadata": {
        "colab": {
          "base_uri": "https://localhost:8080/"
        },
        "id": "3tsyNrWmP-bj",
        "outputId": "77a37aa0-ebab-4cd8-a2f0-f053dee3fd95"
      },
      "execution_count": 55,
      "outputs": [
        {
          "output_type": "stream",
          "name": "stdout",
          "text": [
            "n_iterations: 6\n",
            "n_required_iterations: 8\n",
            "n_possible_iterations: 6\n",
            "min_resources_: 590\n",
            "max_resources_: 28040\n",
            "aggressive_elimination: False\n",
            "factor: 2\n",
            "----------\n",
            "iter: 0\n",
            "n_candidates: 160\n",
            "n_resources: 590\n",
            "Fitting 5 folds for each of 160 candidates, totalling 800 fits\n",
            "----------\n",
            "iter: 1\n",
            "n_candidates: 80\n",
            "n_resources: 1180\n",
            "Fitting 5 folds for each of 80 candidates, totalling 400 fits\n",
            "----------\n",
            "iter: 2\n",
            "n_candidates: 40\n",
            "n_resources: 2360\n",
            "Fitting 5 folds for each of 40 candidates, totalling 200 fits\n",
            "----------\n",
            "iter: 3\n",
            "n_candidates: 20\n",
            "n_resources: 4720\n",
            "Fitting 5 folds for each of 20 candidates, totalling 100 fits\n",
            "----------\n",
            "iter: 4\n",
            "n_candidates: 10\n",
            "n_resources: 9440\n",
            "Fitting 5 folds for each of 10 candidates, totalling 50 fits\n",
            "----------\n",
            "iter: 5\n",
            "n_candidates: 5\n",
            "n_resources: 18880\n",
            "Fitting 5 folds for each of 5 candidates, totalling 25 fits\n",
            "Best Hyperparameters: {'C': 20, 'degree': 1, 'gamma': 'scale', 'kernel': 'rbf'}\n",
            "accuracy_score:  0.021739130434782608\n"
          ]
        }
      ]
    },
    {
      "cell_type": "code",
      "source": [
        "#@title svm classifier with best parameters\n",
        "classifier_normal_l1 = svm.SVC(kernel='rbf', C=100, gamma=0.001)\n",
        "\n",
        "classifier_normal_l1.fit(X,label_1)\n",
        "predicted_label1 = classifier_normal_l1.predict(X_valid)\n",
        "\n",
        "print(\"accuracy_score: \",metrics.accuracy_score(label_1_valid, predicted_label1))\n",
        "# print(\"f1_score: \",f1_score(label_1_valid, predicted_label1, average='weighted')) #f-1 score\n",
        "# print(\"precision_score: \",metrics.precision_score(label_1_valid, predicted_label1, average='weighted' ))\n",
        "# print(\"recall_score: \",metrics.recall_score(label_1_valid, predicted_label1, average='weighted'))"
      ],
      "metadata": {
        "colab": {
          "base_uri": "https://localhost:8080/"
        },
        "id": "D3RXRGW-717Y",
        "outputId": "7a145657-e0cb-42b6-b6a1-143681f8a1eb"
      },
      "execution_count": 60,
      "outputs": [
        {
          "output_type": "stream",
          "name": "stdout",
          "text": [
            "accuracy_score:  0.18206521739130435\n"
          ]
        }
      ]
    },
    {
      "cell_type": "code",
      "source": [
        "predicted_label1_test = classifier_normal_l1.predict(X_test)\n",
        "\n",
        "\n",
        "predicted_df_l1 = pd.DataFrame({'label_1': predicted_label1_test})\n",
        "\n",
        "# Save the DataFrame to a CSV file\n",
        "predicted_df_l1.to_csv('/content/drive/MyDrive/ML/Results/Label 12/predicted_L12_label1.csv', index=False)"
      ],
      "metadata": {
        "id": "rb1vluAn93lQ"
      },
      "execution_count": 62,
      "outputs": []
    }
  ]
}